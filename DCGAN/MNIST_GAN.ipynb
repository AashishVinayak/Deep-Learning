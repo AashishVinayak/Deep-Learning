{
 "cells": [
  {
   "cell_type": "code",
   "execution_count": 2,
   "metadata": {},
   "outputs": [],
   "source": [
    "\"\"\"\n",
    "    Reconstructiong MNIST images using a Deep Convolution GAN\n",
    "\"\"\"\n",
    "import tensorflow as tf\n",
    "import numpy as np\n",
    "import matplotlib.pyplot as plt"
   ]
  },
  {
   "cell_type": "code",
   "execution_count": 158,
   "metadata": {},
   "outputs": [],
   "source": [
    "# creating minibatches\n",
    "def mini_batch(X, size):\n",
    "    # generate random integers of shape size*1 and in range 0 to len(X)\n",
    "    # treat x_bat as indices and return values from X at those indices\n",
    "    x_bat = X[np.random.randint(len(X), size = (size,1))]\n",
    "    x_bat = x_bat.reshape(size, 28, 28, 1)\n",
    "    \n",
    "    return x_bat"
   ]
  },
  {
   "cell_type": "code",
   "execution_count": 3,
   "metadata": {},
   "outputs": [
    {
     "data": {
      "image/png": "[encoded data removed]",
      "text/plain": [
       "<Figure size 576x576 with 16 Axes>"
      ]
     },
     "metadata": {
      "needs_background": "light"
     },
     "output_type": "display_data"
    }
   ],
   "source": [
    "# importing dataset\n",
    "mnist = tf.keras.datasets.mnist\n",
    "(x_train, y_train), (x_test, y_test) = mnist.load_data()\n",
    "\n",
    "del(y_train, y_test)\n",
    "\n",
    "fig = plt.figure(figsize=(8,8))\n",
    "\n",
    "col = 4\n",
    "row = 4\n",
    "j = 0\n",
    "\n",
    "for i in range(1, row*col+1):\n",
    "    fig.add_subplot(row, col, i)\n",
    "    plt.imshow(x_train[j+100], cmap='gray')\n",
    "    j+=1\n",
    "plt.show()"
   ]
  },
  {
   "cell_type": "code",
   "execution_count": 157,
   "metadata": {},
   "outputs": [],
   "source": [
    "# hyperparameters\n",
    "sample_size = 32\n",
    "epoch = 1\n",
    "\n",
    "tf.reset_default_graph()\n",
    "\n",
    "# input and labels placeholders\n",
    "fake_x = tf.placeholder(tf.float32, [None, 4,4,1])  \n",
    "real_x = tf.placeholder(tf.float32, [None, 28,28,1])\n",
    "labels = tf.placeholder(tf.float32, [None, 1])\n",
    "\n",
    "\n",
    "# generator network weights\n",
    "gen_weight = {'w_c1': tf.get_variable('w_c1', [3,3,1,32], initializer=tf.contrib.layers.xavier_initializer()),\n",
    "              'w_c2': tf.get_variable('w_c2', [3,3,32,64], initializer=tf.contrib.layers.xavier_initializer()),\n",
    "              'w_c3': tf.get_variable('w_c3', [3,3,64,64], initializer=tf.contrib.layers.xavier_initializer()),\n",
    "              'w_c4': tf.get_variable('w_c4', [3,3,64,1], initializer=tf.contrib.layers.xavier_initializer())\n",
    "    \n",
    "}\n",
    "\n",
    "dis_weight = {'d_c1': tf.get_variable('d_c1', [3,3,1,32], initializer=tf.contrib.layers.xavier_initializer()), \n",
    "              'd_c2': tf.get_variable('d_c2', [3,3,32,64], initializer=tf.contrib.layers.xavier_initializer()),\n",
    "              'd_c3': tf.get_variable('d_c3', [3,3,64,64], initializer=tf.contrib.layers.xavier_initializer()),\n",
    "              'd_c4': tf.get_variable('d_c4', [3,3,64,1], initializer=tf.contrib.layers.xavier_initializer())\n",
    "}"
   ]
  },
  {
   "cell_type": "code",
   "execution_count": 140,
   "metadata": {},
   "outputs": [],
   "source": [
    "# generator network\n",
    "\n",
    "def generator(fake, gen_wt):\n",
    "    conv_1 = tf.nn.relu(tf.nn.conv2d(fake, gen_wt['w_c1'], strides=[1,1,1,1], padding='SAME'))\n",
    "\n",
    "    up_scale_1 = tf.image.resize_images(conv_1, [14,14], method = tf.image.ResizeMethod.NEAREST_NEIGHBOR)\n",
    "\n",
    "    conv_2 = tf.nn.relu(tf.nn.conv2d(up_scale_1, gen_wt['w_c2'], strides=[1,1,1,1], padding='SAME'))\n",
    "\n",
    "    drop_2 = tf.nn.dropout(conv_2, 0.8)\n",
    "\n",
    "    up_scale_2 = tf.image.resize_images(drop_2, [28,28], method = tf.image.ResizeMethod.NEAREST_NEIGHBOR)\n",
    "\n",
    "    conv_3 = tf.nn.relu(tf.nn.conv2d(up_scale_2, gen_wt['w_c3'], strides=[1,1,1,1], padding='SAME'))\n",
    "\n",
    "    generate = tf.nn.relu(tf.nn.conv2d(conv_3, gen_wt['w_c4'], strides=[1,1,1,1], padding='SAME'))\n",
    "\n",
    "    #cost_func = tf.reduce_mean(tf.squared_difference(real, generate))\n",
    "\n",
    "    #optimize = tf.train.AdamOptimizer(0.001).minimize(cost_func)\n",
    "    \n",
    "    return generate"
   ]
  },
  {
   "cell_type": "code",
   "execution_count": 111,
   "metadata": {},
   "outputs": [],
   "source": [
    "# discriminator network\n",
    "def discriminator(imgs, dis_wt):\n",
    "    c1 = tf.nn.relu(tf.nn.conv2d(imgs, dis_wt['d_c1'], strides=[1,1,1,1], padding='SAME'))\n",
    "    m1 = tf.nn.avg_pool(c1, ksize=[1,2,2,1], strides=[1,2,2,1], padding='SAME')\n",
    "    \n",
    "    c2 = tf.nn.relu(tf.nn.conv2d(m1, dis_wt['d_c2'], strides=[1,1,1,1], padding='SAME'))\n",
    "    m2 = tf.nn.avg_pool(c2, ksize=[1,2,2,1], strides=[1,2,2,1], padding='SAME')\n",
    "    d2 = tf.nn.dropout(m2, 0.8)\n",
    "    \n",
    "    c3 = tf.nn.relu(tf.nn.conv2d(d2, dis_wt['d_c3'], strides=[1,1,1,1], padding='SAME'))\n",
    "    m3 = tf.nn.avg_pool(c3, ksize=[1,2,2,1], strides=[1,2,2,1], padding='SAME')\n",
    "    d3 = tf.nn.dropout(m3, 0.8)\n",
    "    \n",
    "    f4 = tf.layers.flatten(d3)\n",
    "    d4 = tf.layers.dense(f4, 16, activation='sigmoid', trainable=True)\n",
    "    d5 = tf.layers.dense(d4,  1, activation='sigmoid', trainable=True)\n",
    "    \n",
    "    return d5"
   ]
  },
  {
   "cell_type": "code",
   "execution_count": 159,
   "metadata": {},
   "outputs": [],
   "source": [
    "# create noise sample\n",
    "noise = np.random.normal(0, 0.1,[sample_size, fake_x.shape[1], fake_x.shape[2], fake_x.shape[3]])\n",
    "\n",
    "real_imgs = x_train[0:sample_size].reshape(sample_size,28,28,1)\n",
    "\n",
    "\n"
   ]
  }
 ],
 "metadata": {
  "kernelspec": {
   "display_name": "Python 3",
   "language": "python",
   "name": "python3"
  },
  "language_info": {
   "codemirror_mode": {
    "name": "ipython",
    "version": 3
   },
   "file_extension": ".py",
   "mimetype": "text/x-python",
   "name": "python",
   "nbconvert_exporter": "python",
   "pygments_lexer": "ipython3",
   "version": "3.6.6"
  }
 },
 "nbformat": 4,
 "nbformat_minor": 2
}
