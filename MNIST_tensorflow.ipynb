{
 "cells": [
  {
   "cell_type": "code",
   "execution_count": 1,
   "metadata": {},
   "outputs": [],
   "source": [
    "############ Debugging Required ############\n",
    "\n",
    "'''\n",
    "    MNIST digit classification using tensorflow\n",
    "    dataset: Digit recognizer (Kaggle)\n",
    "'''\n",
    "\n",
    "import tensorflow as tf\n",
    "import pandas as pd"
   ]
  },
  {
   "cell_type": "code",
   "execution_count": 2,
   "metadata": {},
   "outputs": [],
   "source": [
    "# importing the training set\n",
    "data = pd.DataFrame(pd.read_csv('train.csv'))\n",
    "data.sample(frac=1)\n",
    "data = data.as_matrix()"
   ]
  },
  {
   "cell_type": "code",
   "execution_count": 3,
   "metadata": {},
   "outputs": [],
   "source": [
    "import numpy as np\n",
    "\n",
    "# this variable iterates with a step size of batch_size variable\n",
    "batch_count = 0 \n",
    "# converting the labels to hot matrix\n",
    "def hot_matrix(digit_label, size):\n",
    "    hm = np.zeros([size, 10], dtype = np.float)\n",
    "    \n",
    "    for j in range(size):\n",
    "        hm[j, digit_label[j]] = 1\n",
    "    return hm\n",
    "\n",
    "# create batches\n",
    "def create_batch(X, Y, ep, dataset_size):\n",
    "    # total batches\n",
    "    global batch_count\n",
    "    batch_size = int(dataset_size/ep)\n",
    "    x_bat = X[batch_count:(batch_count+batch_size), :]\n",
    "    y_bat = Y[batch_count:(batch_count+batch_size), :]\n",
    "    return x_bat, y_bat"
   ]
  },
  {
   "cell_type": "code",
   "execution_count": 4,
   "metadata": {},
   "outputs": [
    {
     "name": "stdout",
     "output_type": "stream",
     "text": [
      "pixel_values shape:  (25000, 784)\n",
      "labels shape:  (25000, 10)\n"
     ]
    }
   ],
   "source": [
    "# data info\n",
    "\n",
    "# training pixel values\n",
    "pixel_values = data[0:25000, 1:]\n",
    "\n",
    "# dataset length\n",
    "m = np.size(pixel_values[:, 0])\n",
    "digits = data[0:25000, 0:1]\n",
    "# labels\n",
    "labels = hot_matrix(digits, m)\n",
    "\n",
    "print('pixel_values shape: ', pixel_values.shape)\n",
    "print('labels shape: ', labels.shape)"
   ]
  },
  {
   "cell_type": "code",
   "execution_count": 5,
   "metadata": {},
   "outputs": [],
   "source": [
    "# placeholder for pixel_values\n",
    "x = tf.placeholder(tf.float32, [None, 784])\n",
    "# placeholder for labels\n",
    "y = tf.placeholder(tf.float32, [None, 10])\n",
    "\n",
    "################## Randomize the weight initialisation ##################\n",
    "\n",
    "\n",
    "# total layers = 3\n",
    "# weights\n",
    "w1 = tf.Variable(tf.random_normal([784, 20]))\n",
    "w2 = tf.Variable(tf.random_normal([20, 20]))\n",
    "w3 = tf.Variable(tf.random_normal([20, 10]))\n",
    "\n",
    "# biases\n",
    "b1 = tf.Variable(tf.random_normal([20]))\n",
    "b2 = tf.Variable(tf.random_normal([20]))\n",
    "b3 = tf.Variable(tf.random_normal([10]))"
   ]
  },
  {
   "cell_type": "code",
   "execution_count": 6,
   "metadata": {},
   "outputs": [],
   "source": [
    "# hidden layers\n",
    "z1 = tf.matmul(x, w1) + b1\n",
    "a1 = tf.nn.relu(z1)\n",
    "z2 = tf.matmul(a1, w2) + b2\n",
    "a2 = tf.nn.relu(z2)\n",
    "z3 = tf.matmul(a2, w3) + b3\n",
    "\n",
    "# optimization function softmax\n",
    "softmax_cross_entropy = tf.nn.softmax_cross_entropy_with_logits(logits = z3, labels = y) \n",
    "\n",
    "# gradient descent\n",
    "optimize = tf.train.GradientDescentOptimizer(0.05).minimize(softmax_cross_entropy)"
   ]
  },
  {
   "cell_type": "code",
   "execution_count": 7,
   "metadata": {},
   "outputs": [],
   "source": [
    "# learning starts now\n",
    "epochs = 1000\n",
    "# creating Session\n",
    "s = tf.InteractiveSession()\n",
    "\n",
    "# initializing variables\n",
    "tf.global_variables_initializer().run()\n",
    "\n",
    "for i in range(epochs):\n",
    "    x_batch, y_batch = create_batch(pixel_values, labels, epochs, m)\n",
    "    train_step = s.run(optimize, {x: x_batch, y: y_batch})\n",
    "    cost = s.run(softmax_cross_entropy, {x: x_batch, y: y_batch})\n",
    "# reset the batch index counter    \n",
    "global batch_count\n",
    "batch_count = 0"
   ]
  },
  {
   "cell_type": "code",
   "execution_count": 8,
   "metadata": {},
   "outputs": [
    {
     "name": "stdout",
     "output_type": "stream",
     "text": [
      "0.0995941\n"
     ]
    }
   ],
   "source": [
    "# test set accuracy\n",
    "test_data = data[25001:]\n",
    "# test set size\n",
    "m_test = np.size(test_data[:, 0])\n",
    "# test set pixel values\n",
    "test_pixel_values = test_data[:, 1:]\n",
    "# creating hot matrix of test set labels\n",
    "test_labels =  hot_matrix(test_data[:, 0:1], m_test)\n",
    "\n",
    "# forward propagation\n",
    "final_softmax = tf.nn.softmax(z3)\n",
    "\n",
    "prediction = s.run(final_softmax, {x: test_pixel_values, y: test_labels})\n",
    "\n",
    "max_index = tf.equal(tf.argmax(prediction, 1), tf.argmax(test_labels, 1))\n",
    "accuracy = tf.reduce_mean(tf.cast(max_index, \"float\"))\n",
    "\n",
    "accuracy_output = s.run(accuracy, {x: test_pixel_values, y: test_labels})\n",
    "\n",
    "print(accuracy_output)"
   ]
  }
 ],
 "metadata": {
  "kernelspec": {
   "display_name": "Python 3",
   "language": "python",
   "name": "python3"
  },
  "language_info": {
   "codemirror_mode": {
    "name": "ipython",
    "version": 3
   },
   "file_extension": ".py",
   "mimetype": "text/x-python",
   "name": "python",
   "nbconvert_exporter": "python",
   "pygments_lexer": "ipython3",
   "version": "3.6.3"
  }
 },
 "nbformat": 4,
 "nbformat_minor": 2
}
