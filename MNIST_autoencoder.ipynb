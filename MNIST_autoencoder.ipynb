{
 "cells": [
  {
   "cell_type": "code",
   "execution_count": null,
   "metadata": {},
   "outputs": [],
   "source": [
    "'''\n",
    "    classifying MNIST using an AUTOENCODER CNN on Tensorflow\n",
    "    Dataset: MNIST\n",
    "'''\n",
    "import numpy as np\n",
    "import pandas as pd\n",
    "import tensorflow as tf\n",
    "import matplotlib.pyplot as plt"
   ]
  },
  {
   "cell_type": "code",
   "execution_count": null,
   "metadata": {},
   "outputs": [],
   "source": [
    "# creating minibatches\n",
    "def mini_batch(X, size):\n",
    "    idx = np.random.randint(len(X), size = (size,1))\n",
    "    x_bat = X[idx]\n",
    "    x_bat = x_bat.reshape(size, 28, 28, 1)\n",
    "    \n",
    "    return x_bat"
   ]
  },
  {
   "cell_type": "code",
   "execution_count": null,
   "metadata": {},
   "outputs": [],
   "source": [
    "# this function adds gaussian noise in the images for the purpose of training\n",
    "def create_noise(image):\n",
    "    noisy = np.array(tf.random_normal(shape = tf.shape(image), mean = 0, stddev = 0, dtype = tf.float32))\n",
    "    return image + noisy"
   ]
  },
  {
   "cell_type": "code",
   "execution_count": null,
   "metadata": {},
   "outputs": [],
   "source": [
    "# importing mnist dataset from keras\n",
    "mnist = tf.keras.datasets.mnist\n",
    "(x_train,y_train), (x_test, y_test) = mnist.load_data()"
   ]
  },
  {
   "cell_type": "code",
   "execution_count": null,
   "metadata": {},
   "outputs": [],
   "source": [
    "x_train = x_train.reshape(len(x_train),  28,  28,  1).astype(np.float32)\n",
    "x_test = x_test.reshape(len(x_test),  28,  28,  1).astype(np.float32)\n",
    "print(\"training data: \", x_train.shape)\n",
    "print(\"testing data: \", x_test.shape)"
   ]
  },
  {
   "cell_type": "code",
   "execution_count": null,
   "metadata": {},
   "outputs": [],
   "source": [
    "tf.reset_default_graph()\n",
    "# creating placeholder for input image data\n",
    "inputs = tf.placeholder(tf.float32, (None, 28,28,1))\n",
    "target = tf.placeholder(tf.float32, (None, 28,28,1))\n",
    "\n",
    "# kernel weights\n",
    "wc1 = tf.get_variable('wc1', [3,3,1,32], initializer=tf.contrib.layers.xavier_initializer())\n",
    "wc2 = tf.get_variable('wc2', [3,3,32,32], initializer=tf.contrib.layers.xavier_initializer())\n",
    "wc3 = tf.get_variable('wc3', [3,3,32,32], initializer=tf.contrib.layers.xavier_initializer())\n",
    "wc4 = tf.get_variable('wc4', [3,3,32,16], initializer=tf.contrib.layers.xavier_initializer())\n",
    "wc5 = tf.get_variable('wc5', [3,3,16,32], initializer=tf.contrib.layers.xavier_initializer())\n",
    "wc6 = tf.get_variable('wc6', [3,3,32,32], initializer=tf.contrib.layers.xavier_initializer())\n",
    "wc7 = tf.get_variable('wc7', [3,3,32,1], initializer=tf.contrib.layers.xavier_initializer())\n",
    "\n",
    "# learning rate\n",
    "learning_rate = 0.01"
   ]
  },
  {
   "cell_type": "code",
   "execution_count": null,
   "metadata": {},
   "outputs": [],
   "source": [
    "with tf.device('/cpu:0'):\n",
    "    # encoder unit\n",
    "    c1 = tf.nn.relu(tf.nn.conv2d(x_train, wc1, strides = [1,1,1,1], padding = 'SAME'))\n",
    "    m1 = tf.nn.max_pool(c1, ksize = [1,2,2,1], strides = [1,2,2,1], padding = 'SAME')\n",
    "    # m1 shape = 14 x 14 x 32\n",
    "    print('m1     :',m1.shape)\n",
    "    c2 = tf.nn.relu(tf.nn.conv2d(m1, wc2, strides = [1,1,1,1], padding = 'SAME'))\n",
    "    m2 = tf.nn.max_pool(c2, ksize = [1,2,2,1], strides = [1,2,2,1], padding = 'SAME')\n",
    "    # m2 shape = 7 x 7 x 32\n",
    "    print('m2     :',m2.shape)\n",
    "    c3 = tf.nn.relu(tf.nn.conv2d(m2, wc3, strides = [1,1,1,1], padding = 'SAME'))\n",
    "    encoded = tf.nn.max_pool(c3, ksize = [1,2,2,1], strides = [1,2,2,1], padding = 'SAME')\n",
    "    # encoded shape = 4 x 4 x 32\n",
    "    print('encoder:',encoded.shape)\n",
    "\n",
    "    # decoder unit\n",
    "    d1 = tf.image.resize_images(encoded, size = (7,7), method = tf.image.ResizeMethod.NEAREST_NEIGHBOR)\n",
    "    c4 = tf.nn.relu(tf.nn.conv2d(d1, wc4, strides = [1,1,1,1], padding = 'SAME'))\n",
    "    print('c4     :', c4.shape)\n",
    "    d2 = tf.image.resize_images(c4, size = (14,14), method = tf.image.ResizeMethod.NEAREST_NEIGHBOR)\n",
    "    c5 = tf.nn.relu(tf.nn.conv2d(d2, wc5, strides = [1,1,1,1], padding = 'SAME'))\n",
    "    print('c5     :', c5.shape)\n",
    "    d3 = tf.image.resize_images(c5, size = (28,28), method = tf.image.ResizeMethod.NEAREST_NEIGHBOR)\n",
    "    c6 = tf.nn.relu(tf.nn.conv2d(d3, wc6, strides = [1,1,1,1], padding = 'SAME'))\n",
    "    print('c6     :', c6.shape)\n",
    "    logits = tf.nn.conv2d(c6, wc7, strides = [1,1,1,1], padding = 'SAME')\n",
    "    print('logits :',logits.shape)\n",
    "    # sigmoid cross entropy\n",
    "    cost_func = tf.nn.sigmoid_cross_entropy_with_logits(logits = logits, labels = inputs)\n",
    "    optimize = tf.train.AdamOptimizer(learning_rate).minimize(cost_func)"
   ]
  },
  {
   "cell_type": "code",
   "execution_count": null,
   "metadata": {},
   "outputs": [],
   "source": [
    "# creating a tensorflow session\n",
    "s = tf.Session(config=tf.ConfigProto(log_device_placement=True))\n",
    "s.run(tf.global_variables_initializer())\n",
    "\n",
    "# hyperparameters\n",
    "epochs = 1\n",
    "\n",
    "# training loop\n",
    "for i in range(epochs):\n",
    "    train_batch = mini_batch(x_train, 32)\n",
    "    noise_batch = np.array(create_noise(train_batch))\n",
    "    print(\"epoch: \",i)\n",
    "    s.run(optimize, {inputs : noise_batch, target : train_batch})    "
   ]
  },
  {
   "cell_type": "code",
   "execution_count": null,
   "metadata": {},
   "outputs": [],
   "source": [
    "# cost, prediction and accuracy\n",
    "cost = s.run(cost_func)\n",
    "print(\"cost: \",cost)\n",
    "\n",
    "noise_test = np.array(create_noise(x_test))\n",
    "prediction = s.run(logits, {inputs: x_test, target: noise_test})\n",
    "\n",
    "# plotting reconstructed images\n",
    "w=10\n",
    "h=10\n",
    "fig=plt.figure(figsize=(8, 8))\n",
    "columns = 4\n",
    "rows = 5\n",
    "img = np.array(prediction)[0:10]\n",
    "j = 0\n",
    "for i in range(1, columns*rows +1):\n",
    "    fig.add_subplot(rows, columns, i)\n",
    "    plt.imshow(img[j])\n",
    "    j+=1\n",
    "    \n",
    "plt.show()"
   ]
  }
 ],
 "metadata": {
  "kernelspec": {
   "display_name": "Python 3",
   "language": "python",
   "name": "python3"
  },
  "language_info": {
   "codemirror_mode": {
    "name": "ipython",
    "version": 3
   },
   "file_extension": ".py",
   "mimetype": "text/x-python",
   "name": "python",
   "nbconvert_exporter": "python",
   "pygments_lexer": "ipython3",
   "version": "3.6.6"
  }
 },
 "nbformat": 4,
 "nbformat_minor": 2
}
