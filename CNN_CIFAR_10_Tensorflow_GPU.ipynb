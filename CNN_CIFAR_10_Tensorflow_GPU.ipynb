{
 "cells": [
  {
   "cell_type": "code",
   "execution_count": null,
   "metadata": {},
   "outputs": [],
   "source": [
    "###################### DUE TO LACK OF COMPUTATION POWER I CANNONT TRAIN THIS MODEL ######################\n",
    "\n",
    "# may god bless the person who runs it on their pc\n",
    "\n",
    "# link to the dataset\n",
    "# https://www.kaggle.com/c/cifar-10/data\n",
    "\n",
    "\"\"\"\n",
    "    Image classification using convolutional neural network\n",
    "    dataset: CIFAR-10\n",
    "    Framework: Tensorflow\n",
    "\"\"\"\n",
    "\n",
    "import tensorflow as tf\n",
    "import pandas as pd\n",
    "import numpy as np\n",
    "import glob\n",
    "import cv2\n",
    "from IPython.display import clear_output"
   ]
  },
  {
   "cell_type": "code",
   "execution_count": null,
   "metadata": {},
   "outputs": [],
   "source": [
    "# creating one-hot matrix of the output labels\n",
    "# base is the set of training image labels\n",
    "\n",
    "# compares the label in base with the label in label_list\n",
    "# 1 is stored in the one_hot matrix at\n",
    "# the index at which the label from base lies in the label_list \n",
    "\n",
    "def one_hot(base):\n",
    "    label_list = ['airplane', 'automobile', 'bird', 'cat', 'deer', 'dog', 'frog', 'horse', 'ship', 'truck']\n",
    "    # one_hot matrix\n",
    "    hot_matrix = np.zeros([np.size(base[:, 0]), 10], dtype = float)\n",
    "    for i in range(np.size(base[:, 0])):\n",
    "        hot_matrix[i, label_list.index(base[i, 1])] = 1\n",
    "    return hot_matrix"
   ]
  },
  {
   "cell_type": "code",
   "execution_count": null,
   "metadata": {},
   "outputs": [],
   "source": [
    "# creating minibatches\n",
    "def mini_batch(X, Y, size):\n",
    "    idx = np.random.randint(np.size(Y[:, 0]), size = (size,1))\n",
    "    x_bat = X[idx]\n",
    "    x_bat = x_bat.reshape(size, 32, 32, 3)\n",
    "    y_bat = Y[idx]\n",
    "    y_bat = y_bat.reshape(size, 10)\n",
    "    \n",
    "    return x_bat, y_bat"
   ]
  },
  {
   "cell_type": "code",
   "execution_count": null,
   "metadata": {},
   "outputs": [],
   "source": [
    "# importing 50000 images of size 32x32x3\n",
    "i = 0\n",
    "img_base = []\n",
    "for img in glob.glob(\"train\\\\*.png\"):\n",
    "    img_base.append(cv2.imread(img))\n",
    "        \n",
    "print('imported ', i, 'images!')\n",
    "x_train = np.array(img_base[0:40000]).astype(np.float32)"
   ]
  },
  {
   "cell_type": "code",
   "execution_count": null,
   "metadata": {},
   "outputs": [],
   "source": [
    "# importing labels\n",
    "labels = pd.DataFrame(pd.read_csv(\"trainLabels.csv\"))\n",
    "y_train = np.array(labels[0:40000])\n",
    "y_train = one_hot(y_train)\n",
    "print('training labels size: ',y_train.shape)\n",
    "print('training images size: ', x_train.shape)"
   ]
  },
  {
   "cell_type": "code",
   "execution_count": null,
   "metadata": {},
   "outputs": [],
   "source": [
    "# to reset the graph\n",
    "tf.reset_default_graph()\n",
    "\n",
    "# creating placeholders\n",
    "x = tf.placeholder(tf.float32, [None, 32, 32, 3])\n",
    "y = tf.placeholder(tf.float32, [None, 10])\n",
    "\n",
    "# creating weights\n",
    "w1 = tf.get_variable('w1', [4,4,3,10], initializer=tf.contrib.layers.xavier_initializer())\n",
    "w2 = tf.get_variable('w2', [4,4,10,15], initializer=tf.contrib.layers.xavier_initializer())"
   ]
  },
  {
   "cell_type": "code",
   "execution_count": null,
   "metadata": {},
   "outputs": [],
   "source": [
    "# forward propagation\n",
    "with tf.device(\"/gpu:0\"):\n",
    "    # convolution layer 1\n",
    "    c1 = tf.nn.conv2d(x_train, w1, strides = [1,1,1,1], padding = 'VALID')\n",
    "    # activation function for c1: relu\n",
    "    r1 = tf.nn.relu(c1)\n",
    "    # maxpooling\n",
    "    p1 = tf.nn.max_pool(r1, ksize = [1,2,2,1], strides = [1,2,2,1], padding = 'SAME')\n",
    "\n",
    "    # convolution layer 2\n",
    "    c2 = tf.nn.conv2d(p1, w2, strides = [1,1,1,1], padding='VALID')\n",
    "    # activation function for c2: relu\n",
    "    r2 = tf.nn.relu(c2)\n",
    "    # maxpooling\n",
    "    p2 = tf.nn.max_pool(r2, ksize = [1,2,2,1], strides = [1,2,2,1], padding = 'SAME')\n",
    "\n",
    "    # flattening the previous max pool layer\n",
    "    l1 = tf.contrib.layers.flatten(p2)\n",
    "    # fully connected layer\n",
    "    final = tf.contrib.layers.fully_connected(l1, 10, activation_fn = None)"
   ]
  },
  {
   "cell_type": "code",
   "execution_count": null,
   "metadata": {},
   "outputs": [],
   "source": [
    "# hyperparameters\n",
    "learning_rate = 0.05\n",
    "\n",
    "# epochs = no. of training iterations \n",
    "epochs = 1000"
   ]
  },
  {
   "cell_type": "code",
   "execution_count": null,
   "metadata": {},
   "outputs": [],
   "source": [
    "# training and optimization\n",
    "\n",
    "cross_entropy = tf.reduce_mean(tf.nn.softmax_cross_entropy_with_logits(logits = final, labels = y_train))\n",
    "# using adam optimizer \n",
    "optimize = tf.train.AdamOptimizer(learning_rate).minimize(cross_entropy)"
   ]
  },
  {
   "cell_type": "code",
   "execution_count": null,
   "metadata": {},
   "outputs": [],
   "source": [
    "# creating tensorflow session\n",
    "se = tf.Session(config=tf.ConfigProto(log_device_placement=True))\n",
    "\n",
    "# initializing variables\n",
    "se.run(tf.global_variables_initializer())\n",
    "\n",
    "# training the graph\n",
    "# mini-batch size = 100\n",
    "for i in range(epochs):\n",
    "    x_batch, y_batch = mini_batch(x_train, y_train, 100)\n",
    "    training_step = se.run(optimize, {x: x_batch, y: y_batch})\n",
    "    \n",
    "cost = se.run(cross_entropy, {x: x_train, y: y_train})\n",
    "print('cost: ', cost)"
   ]
  },
  {
   "cell_type": "code",
   "execution_count": null,
   "metadata": {},
   "outputs": [],
   "source": [
    "# metrics\n",
    "\n",
    "# importing test set\n",
    "x_test = np.array(img_base[40000:]).astype(np.float32)\n",
    "y_test = np.array(labels[40000:])\n",
    "y_test = one_hot(y_test)\n",
    "\n",
    "# training set accuracy\n",
    "# 1. predictions\n",
    "train_predictions = se.run(final, {x: x_train, y:y_train})\n",
    "# 2. correct results\n",
    "correct_train_predictions = tf.equal(tf.argmax(predictions, 1), tf.argmax(y_train, 1)) \n",
    "training_accuracy = tf.reduce_mean(tf.cast(correct_train_predictions, dtype = 'float'))\n",
    "\n",
    "# test set accuracy\n",
    "# 1. predictions\n",
    "test_predictions = se.run(final, {x: x_test, y:y_test})\n",
    "# 2. correct results\n",
    "correct_test_predictions = tf.equal(tf.argmax(predictions, 1), tf.argmax(y_test, 1)) \n",
    "test_accuracy = tf.reduce_mean(tf.cast(correct_test_predictions, dtype = 'float'))\n",
    "\n",
    "print('training accuracy: ', se.run(train_accuracy))\n",
    "print('training accuracy: ', se.run(test_accuracy))"
   ]
  }
 ],
 "metadata": {
  "kernelspec": {
   "display_name": "Python 3",
   "language": "python",
   "name": "python3"
  },
  "language_info": {
   "codemirror_mode": {
    "name": "ipython",
    "version": 3
   },
   "file_extension": ".py",
   "mimetype": "text/x-python",
   "name": "python",
   "nbconvert_exporter": "python",
   "pygments_lexer": "ipython3",
   "version": "3.6.3"
  }
 },
 "nbformat": 4,
 "nbformat_minor": 2
}
