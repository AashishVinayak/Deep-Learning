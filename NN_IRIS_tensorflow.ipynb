{
 "cells": [
  {
   "cell_type": "code",
   "execution_count": 293,
   "metadata": {},
   "outputs": [],
   "source": [
    "'''\n",
    "    Shallow neural network in tensorflow\n",
    "    Dataset: Iris\n",
    "'''\n",
    "import tensorflow as tf\n",
    "import pandas as pd\n",
    "import numpy as np"
   ]
  },
  {
   "cell_type": "code",
   "execution_count": 294,
   "metadata": {},
   "outputs": [
    {
     "name": "stdout",
     "output_type": "stream",
     "text": [
      "(150, 5)\n",
      "   sepal length  sepal width  petal length  petal width            class\n",
      "0           6.3          2.5           4.9          1.5  Iris-versicolor\n",
      "1           6.7          3.0           5.0          1.7  Iris-versicolor\n",
      "2           6.2          2.8           4.8          1.8   Iris-virginica\n",
      "3           6.1          2.8           4.7          1.2  Iris-versicolor\n",
      "4           5.5          2.4           3.8          1.1  Iris-versicolor\n"
     ]
    }
   ],
   "source": [
    "# importing dataset\n",
    "\n",
    "data = pd.DataFrame(pd.read_csv('iris.csv'))\n",
    "print(data.shape)\n",
    "\n",
    "# randomizing\n",
    "data = data.sample(frac=1).reset_index(drop = True)\n",
    "print(data.head())"
   ]
  },
  {
   "cell_type": "code",
   "execution_count": 295,
   "metadata": {},
   "outputs": [],
   "source": [
    "# function converts string labels to hot matrix\n",
    "def hot_matrix(label):\n",
    "    hm = np.zeros([label.size, 3], dtype = float)\n",
    "    for i in range(label.size):\n",
    "        if label[i] == 'Iris-setosa':\n",
    "            hm[i, 0] = 1\n",
    "        elif label[i] == 'Iris-versicolor':\n",
    "            hm[i, 1] = 1\n",
    "        elif label[i] == 'Iris-virginica':\n",
    "            hm[i, 2] = 1\n",
    "    return hm"
   ]
  },
  {
   "cell_type": "code",
   "execution_count": 296,
   "metadata": {},
   "outputs": [
    {
     "name": "stdout",
     "output_type": "stream",
     "text": [
      "x_train:  (90, 4)\n",
      "y_train:  (90, 3)\n",
      "x_test :  (60, 4)\n",
      "y_test :  (60, 3)\n"
     ]
    }
   ],
   "source": [
    "# training set\n",
    "x_train = np.array(data)[0:90, 0:4]\n",
    "y_train = hot_matrix(np.array(data)[0:90, 4:5])\n",
    "\n",
    "# test set\n",
    "x_test = np.array(data)[90:, 0:4]\n",
    "y_test = hot_matrix(np.array(data)[90:, 4:5])\n",
    "\n",
    "print('x_train: ', x_train.shape)\n",
    "print('y_train: ', y_train.shape)\n",
    "print('x_test : ', x_test.shape)\n",
    "\n",
    "print('y_test : ', y_test.shape)"
   ]
  },
  {
   "cell_type": "code",
   "execution_count": 297,
   "metadata": {},
   "outputs": [],
   "source": [
    "# placeholders for data\n",
    "x = tf.placeholder(tf.float32, [None, 4])\n",
    "y = tf.placeholder(tf.float32, [None, 3])\n",
    "\n",
    "# weights\n",
    "w1 = tf.Variable(tf.random_uniform([4, 6]), tf.float32)\n",
    "w2 = tf.Variable(tf.random_uniform([6, 3]), tf.float32)\n",
    "\n",
    "# biases\n",
    "b1 = tf.Variable(tf.random_uniform([6]), tf.float32)\n",
    "b2 = tf.Variable(tf.random_uniform([3]), tf.float32)"
   ]
  },
  {
   "cell_type": "code",
   "execution_count": 298,
   "metadata": {},
   "outputs": [],
   "source": [
    "# coputation graph\n",
    "a1 = tf.nn.sigmoid(tf.matmul(x, w1) + b1)\n",
    "z2 = tf.matmul(a1, w2) + b2\n",
    "\n",
    "sig_cross = tf.reduce_mean(tf.nn.sigmoid_cross_entropy_with_logits(labels = y, logits = z2))\n",
    "\n",
    "optimize = tf.train.GradientDescentOptimizer(0.7).minimize(sig_cross)\n",
    "\n",
    "# initialising variables\n",
    "init = tf.global_variables_initializer()"
   ]
  },
  {
   "cell_type": "code",
   "execution_count": 299,
   "metadata": {},
   "outputs": [],
   "source": [
    "# crating Tensorflow session\n",
    "sess = tf.Session()\n",
    "sess.run(init)"
   ]
  },
  {
   "cell_type": "code",
   "execution_count": 300,
   "metadata": {},
   "outputs": [
    {
     "name": "stdout",
     "output_type": "stream",
     "text": [
      "cost after  0  iterations:  1.59749\n",
      "cost after  200  iterations:  0.633876\n",
      "cost after  400  iterations:  0.573879\n",
      "cost after  600  iterations:  0.380356\n",
      "cost after  800  iterations:  0.354492\n",
      "cost after  1000  iterations:  0.345521\n",
      "cost after  1200  iterations:  0.341035\n",
      "cost after  1400  iterations:  0.338317\n",
      "cost after  1600  iterations:  0.33642\n",
      "cost after  1800  iterations:  0.334845\n",
      "cost after  2000  iterations:  0.333062\n",
      "cost after  2200  iterations:  0.329848\n",
      "cost after  2400  iterations:  0.322254\n",
      "cost after  2600  iterations:  0.314576\n",
      "cost after  2800  iterations:  0.311795\n"
     ]
    }
   ],
   "source": [
    "# learning the weights\n",
    "epochs = 3000\n",
    "for i in range(epochs):\n",
    "    sess.run(optimize, {x: x_train, y: y_train})\n",
    "    cost = sess.run(sig_cross, {x: x_train, y: y_train})\n",
    "    \n",
    "    if i % 200 == 0:\n",
    "        print('cost after ', i, ' iterations: ', cost)"
   ]
  },
  {
   "cell_type": "code",
   "execution_count": 302,
   "metadata": {},
   "outputs": [
    {
     "name": "stdout",
     "output_type": "stream",
     "text": [
      "train set accuracy:  0.955556\n",
      "test set accuracy:  0.95\n"
     ]
    }
   ],
   "source": [
    "# calculating accuracy\n",
    "pred = tf.nn.sigmoid(z2)\n",
    "correct = tf.equal(tf.argmax(pred, 1), tf.argmax(y, 1))\n",
    "accuracy = tf.reduce_mean(tf.cast(correct, tf.float32))\n",
    "\n",
    "print('train set accuracy: ',sess.run(accuracy, {x: x_train, y: y_train}))\n",
    "print('test set accuracy: ',sess.run(accuracy, {x: x_test, y: y_test}))\n",
    "\n"
   ]
  }
 ],
 "metadata": {
  "kernelspec": {
   "display_name": "Python 3",
   "language": "python",
   "name": "python3"
  },
  "language_info": {
   "codemirror_mode": {
    "name": "ipython",
    "version": 3
   },
   "file_extension": ".py",
   "mimetype": "text/x-python",
   "name": "python",
   "nbconvert_exporter": "python",
   "pygments_lexer": "ipython3",
   "version": "3.6.3"
  }
 },
 "nbformat": 4,
 "nbformat_minor": 2
}
