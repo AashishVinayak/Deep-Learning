{
  "nbformat": 4,
  "nbformat_minor": 0,
  "metadata": {
    "colab": {
      "name": "Untitled0.ipynb",
      "version": "0.3.2",
      "provenance": []
    },
    "kernelspec": {
      "name": "python3",
      "display_name": "Python 3"
    },
    "accelerator": "GPU"
  },
  "cells": [
    {
      "metadata": {
        "id": "6iEZIDXtaDkQ",
        "colab_type": "code",
        "colab": {
          "base_uri": "https://localhost:8080/",
          "height": 85
        },
        "outputId": "ae69a225-6152-4fe5-8a5b-ba02cfd2db88"
      },
      "cell_type": "code",
      "source": [
        "import pandas as pd\n",
        "import nltk\n",
        "import numpy as np\n",
        "import re\n",
        "from sklearn.feature_extraction.text import TfidfVectorizer\n",
        "from keras.models import Sequential\n",
        "from keras.layers import Dense,GRU,Dropout\n",
        "from keras.utils import to_categorical\n",
        "nltk.download('stopwords')"
      ],
      "execution_count": 1,
      "outputs": [
        {
          "output_type": "stream",
          "text": [
            "Using TensorFlow backend.\n"
          ],
          "name": "stderr"
        },
        {
          "output_type": "stream",
          "text": [
            "[nltk_data] Downloading package stopwords to /root/nltk_data...\n",
            "[nltk_data]   Package stopwords is already up-to-date!\n"
          ],
          "name": "stdout"
        },
        {
          "output_type": "execute_result",
          "data": {
            "text/plain": [
              "True"
            ]
          },
          "metadata": {
            "tags": []
          },
          "execution_count": 1
        }
      ]
    },
    {
      "metadata": {
        "id": "bagTayJIeZmk",
        "colab_type": "code",
        "colab": {}
      },
      "cell_type": "code",
      "source": [
        "import keras\n",
        "import tensorflow as tf\n",
        "config = tf.ConfigProto( device_count = {'GPU': 1 , 'CPU': 6} ) \n",
        "sess = tf.Session(config=config) \n",
        "keras.backend.set_session(sess)"
      ],
      "execution_count": 0,
      "outputs": []
    },
    {
      "metadata": {
        "id": "v0vbU1EVaWUQ",
        "colab_type": "code",
        "colab": {
          "base_uri": "https://localhost:8080/",
          "height": 34
        },
        "outputId": "4e6ea351-2054-4686-fde6-ad82d033259e"
      },
      "cell_type": "code",
      "source": [
        "# importing data\n",
        "data = pd.DataFrame(pd.read_csv(\"https://raw.githubusercontent.com/aashishksahu/Deep-Learning/master/data.csv\")).dropna()\n",
        "data.reindex(np.random.permutation(data.index))\n",
        "print(\"dataset length: \",len(data))"
      ],
      "execution_count": 3,
      "outputs": [
        {
          "output_type": "stream",
          "text": [
            "dataset length:  19662\n"
          ],
          "name": "stdout"
        }
      ]
    },
    {
      "metadata": {
        "id": "G72t2NjSabL2",
        "colab_type": "code",
        "colab": {}
      },
      "cell_type": "code",
      "source": [
        "### preprocessing\n",
        "# importing stopwords\n",
        "from nltk.corpus import stopwords\n",
        "stopwords = list(set(stopwords.words(\"english\")))\n",
        "\n",
        "# convert to list\n",
        "review = list(data['Review Text'])[0:10000]\n",
        "\n",
        "for i in range(len(review)):\n",
        "    # remove unnecessary characters\n",
        "    review[i] = re.findall(r'[a-zA-Z]\\w+', review[i])\n",
        "    # remove stopwords\n",
        "    review[i] = [word for word in review[i] if word not in stopwords]\n",
        "    # join words to form text\n",
        "    review[i] = ' '.join(review[i])\n",
        "\n",
        "# target \n",
        "recommendation = np.asarray(data['Recommended IND'])[0:10000]"
      ],
      "execution_count": 0,
      "outputs": []
    },
    {
      "metadata": {
        "id": "VkOpIrXAadck",
        "colab_type": "code",
        "colab": {}
      },
      "cell_type": "code",
      "source": [
        "# creating TF-IDF matrix\n",
        "vectorizer = TfidfVectorizer()\n",
        "vectorizer.fit(review)\n",
        "\n",
        "# create tf-idf scores\n",
        "tfidf = vectorizer.transform(review)\n",
        "tfidf = tfidf.toarray()\n",
        "\n",
        "# train-test split\n",
        "x_train = tfidf[0:7000]\n",
        "x_train = x_train.reshape(7000, 9679, 1)\n",
        "y_train = recommendation[0:7000]\n",
        "\n",
        "x_test = tfidf[7000:len(review)]\n",
        "x_test = x_test.reshape(len(x_test), 9679, 1)\n",
        "y_test = recommendation[7000:len(recommendation)]\n",
        "\n",
        "# free memory\n",
        "del(review)\n",
        "del(recommendation)\n",
        "del(data)\n",
        "del(stopwords)"
      ],
      "execution_count": 0,
      "outputs": []
    },
    {
      "metadata": {
        "id": "7WbgK_9dbTss",
        "colab_type": "code",
        "colab": {
          "base_uri": "https://localhost:8080/",
          "height": 51
        },
        "outputId": "d2182d37-2063-4d5a-8f9e-5daf8e77950a"
      },
      "cell_type": "code",
      "source": [
        "model = Sequential()\n",
        "model.add(GRU(16, return_sequences=True,input_shape=(x_train.shape[1],x_train.shape[2])))\n",
        "model.add(GRU(8))\n",
        "model.add(Dropout(0.2))\n",
        "model.add(Dense(1, activation='softmax'))\n",
        "model.compile(loss = \"binary_crossentropy\", optimizer=\"adam\",  metrics = ['accuracy'])\n",
        "model.fit(x_train, y_train.reshape(len(y_train),1), epochs=10, batch_size=512)"
      ],
      "execution_count": 0,
      "outputs": [
        {
          "output_type": "stream",
          "text": [
            "Epoch 1/10\n",
            "6656/7000 [===========================>..] - ETA: 26s - loss: 2.8143 - acc: 0.8235 "
          ],
          "name": "stdout"
        }
      ]
    },
    {
      "metadata": {
        "id": "6TRkc6-h0tUy",
        "colab_type": "code",
        "colab": {}
      },
      "cell_type": "code",
      "source": [
        "# evaluation\n",
        "model.evaluate(x_test, y_test.reshape(len(y_test),1))"
      ],
      "execution_count": 0,
      "outputs": []
    },
    {
      "metadata": {
        "id": "w9m1Q78r064Y",
        "colab_type": "code",
        "colab": {}
      },
      "cell_type": "code",
      "source": [
        "# saving the trainied model\n",
        "model.save(\"trained_model.h5\")"
      ],
      "execution_count": 0,
      "outputs": []
    }
  ]
}