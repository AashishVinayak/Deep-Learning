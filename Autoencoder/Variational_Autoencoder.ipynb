{
  "nbformat": 4,
  "nbformat_minor": 0,
  "metadata": {
    "colab": {
      "name": "Variational Autoencoder.ipynb",
      "version": "0.3.2",
      "provenance": [],
      "collapsed_sections": []
    },
    "kernelspec": {
      "name": "python3",
      "display_name": "Python 3"
    },
    "accelerator": "GPU"
  },
  "cells": [
    {
      "metadata": {
        "id": "vkAnVWHICyz8",
        "colab_type": "code",
        "colab": {}
      },
      "cell_type": "code",
      "source": [
        "import numpy as np\n",
        "import tensorflow as tf\n",
        "import matplotlib.pyplot as plt\n",
        "from tensorflow.keras.datasets import mnist"
      ],
      "execution_count": 0,
      "outputs": []
    },
    {
      "metadata": {
        "id": "_rK3fiNsDaGP",
        "colab_type": "code",
        "colab": {}
      },
      "cell_type": "code",
      "source": [
        "# creating minibatches\n",
        "def mini_batch(X, size):\n",
        "    x_bat = X[np.random.randint(len(X), size = (size,1))]\n",
        "    x_bat = x_bat.reshape(size, 28, 28, 1)\n",
        "    \n",
        "    return x_bat"
      ],
      "execution_count": 0,
      "outputs": []
    },
    {
      "metadata": {
        "id": "7TlQHmHBDzRx",
        "colab_type": "code",
        "outputId": "2f22ab40-7e3c-435a-8d57-0bb26d5110b0",
        "colab": {
          "base_uri": "https://localhost:8080/",
          "height": 485
        }
      },
      "cell_type": "code",
      "source": [
        "(x_train,_), (x_test, _) = mnist.load_data()\n",
        "x_train = x_train/255.0\n",
        "x_test = x_test/255.0\n",
        "\n",
        "# plotting images\n",
        "w=10\n",
        "h=10\n",
        "fig=plt.figure(figsize=(8, 8))\n",
        "columns = 4\n",
        "rows = 5\n",
        "j = 0\n",
        "for i in range(1, columns*rows +1):\n",
        "    fig.add_subplot(rows, columns, i)\n",
        "    plt.imshow(x_train[j])\n",
        "    j+=1\n",
        "    \n",
        "plt.show()"
      ],
      "execution_count": 14,
      "outputs": [
        {
          "output_type": "display_data",
          "data": {
            "image/png": "[encoded data removed]",
            "text/plain": [
              "<Figure size 576x576 with 20 Axes>"
            ]
          },
          "metadata": {
            "tags": []
          }
        }
      ]
    },
    {
      "metadata": {
        "id": "4G5grNAtD4tf",
        "colab_type": "code",
        "outputId": "8ba08241-07b8-48e5-a35c-653d29583405",
        "colab": {
          "base_uri": "https://localhost:8080/",
          "height": 54
        }
      },
      "cell_type": "code",
      "source": [
        "# preparing training and test set\n",
        "x_train = x_train.reshape(len(x_train),  28,  28,  1).astype(np.float32)\n",
        "x_test = x_test.reshape(len(x_test),  28,  28,  1).astype(np.float32)\n",
        "print(\"training data: \", x_train.shape)\n",
        "print(\"testing data : \", x_test.shape)\n",
        "\n",
        "# batch size\n",
        "batch = 50"
      ],
      "execution_count": 15,
      "outputs": [
        {
          "output_type": "stream",
          "text": [
            "training data:  (60000, 28, 28, 1)\n",
            "testing data :  (10000, 28, 28, 1)\n"
          ],
          "name": "stdout"
        }
      ]
    },
    {
      "metadata": {
        "id": "d87oGF7PECP-",
        "colab_type": "code",
        "colab": {}
      },
      "cell_type": "code",
      "source": [
        "class vae:    \n",
        "    def __init__(self, batch_size):\n",
        "        \"\"\"\n",
        "            batch_size: training or testing data batch size\n",
        "            lr: Learning rate\n",
        "        \"\"\"\n",
        "        self.batch_size = batch_size\n",
        "        \n",
        "    \n",
        "    def GaussianSample(self, mu, sigma):\n",
        "        \"\"\"\n",
        "            mu: vector of means\n",
        "            sigma: vector of standard deviations\n",
        "            \n",
        "            returns vector e sampled from unit normal distribution and scaled to sigma and shifted to mu\n",
        "        \"\"\"\n",
        "        \n",
        "        e = tf.random_normal(shape=[self.batch_size, int(mu.shape[1])], mean=0., stddev=1.)\n",
        "        \n",
        "        sampled = mu + tf.multiply(tf.exp(sigma), e)\n",
        "        \n",
        "        return sampled\n",
        "    \n",
        "    \n",
        "    \n",
        "    # encoder model\n",
        "    def encoder(self, x_in):\n",
        "        \"\"\"\n",
        "            x_in: image input\n",
        "            \n",
        "            implements encoder model\n",
        "        \"\"\"\n",
        "        \n",
        "        en1 = tf.layers.conv2d(x_in, filters=16, kernel_size=(2,2), activation=tf.nn.relu, padding=\"same\")\n",
        "        en1 = tf.layers.max_pooling2d(en1, pool_size=(2,2), strides=(2,2))\n",
        "        \n",
        "        en2 = tf.layers.conv2d(en1, filters=32, kernel_size=(2,2), activation=tf.nn.relu, padding=\"same\")\n",
        "        en2 = tf.layers.max_pooling2d(en2, pool_size=(2,2), strides=(2,2))\n",
        "        \n",
        "        en3 = tf.layers.conv2d(en2, filters=64, kernel_size=(2,2), activation=tf.nn.relu, padding=\"same\")\n",
        "        en3 = tf.layers.max_pooling2d(en3, pool_size=(2,2), strides=(2,2))\n",
        "            \n",
        "        flat = tf.layers.flatten(en3)\n",
        "        \n",
        "        # vector of means\n",
        "        mu = tf.layers.dense(flat, int(flat.shape[1]), activation=None)\n",
        "        # vector of standard deviations\n",
        "        sigma = tf.layers.dense(flat, int(flat.shape[1]), activation=None)\n",
        "        \n",
        "        z = self.GaussianSample(mu, sigma)\n",
        "        \n",
        "        print(\"Encoder\")\n",
        "        print(\"en1  : \", en1.shape)\n",
        "        print(\"en2  : \", en2.shape)\n",
        "        print(\"en3  : \", en3.shape)\n",
        "        print(\"mu   : \", mu.shape)\n",
        "        print(\"flat : \",flat.shape)\n",
        "        print(\"sigma: \", sigma.shape)\n",
        "        print(\"z    : \", z.shape)\n",
        "        print()\n",
        "        \n",
        "        return tf.reshape(z, tf.shape(en3)), mu, sigma\n",
        "    \n",
        "    \n",
        "    def decoder(self, latent):\n",
        "        \"\"\"\n",
        "            latent: latent representation sampled from normal distribution\n",
        "            \n",
        "            returns P(x|z)\n",
        "        \"\"\"\n",
        "        de1 = tf.layers.conv2d_transpose(latent, 64, kernel_size=(4,4), strides=(2,2), padding=\"same\", kernel_initializer=tf.initializers.random_normal)\n",
        "        de1 = tf.nn.relu(de1)\n",
        "        \n",
        "        de2 = tf.layers.conv2d_transpose(de1, 32, kernel_size=(4,4), strides=(2,2), padding=\"valid\", kernel_initializer=tf.initializers.random_normal)\n",
        "        de2 = tf.nn.relu(de2)\n",
        "        \n",
        "        de3 = tf.layers.conv2d_transpose(de2, 16, kernel_size=(4,4), strides=(2,2), padding=\"same\", kernel_initializer=tf.initializers.random_normal)\n",
        "        de3 = tf.nn.relu(de3)\n",
        "        \n",
        "        final = tf.layers.conv2d_transpose(de3, 1, kernel_size=(4,4), strides=(1,1), padding=\"same\", kernel_initializer=tf.initializers.random_normal)\n",
        "        \n",
        "        print(\"Decoder\")\n",
        "        print(\"de1  : \",de1.shape)\n",
        "        print(\"de2  : \",de2.shape)\n",
        "        print(\"de3  : \",de3.shape)\n",
        "        print(\"final: \",final.shape)\n",
        "        print()\n",
        "        \n",
        "        return final\n",
        "    \n",
        "    \n",
        "    def AutoencoderLoss(self, x, xhat, mean, log_stddev):\n",
        "        \"\"\"\n",
        "            xhat: output from the decoder\n",
        "            x: image input\n",
        "            log_stddev: standard deviations from the encoder\n",
        "            \n",
        "            returns the reconstruction + KL divergence loss \n",
        "        \"\"\"\n",
        "        \n",
        "        # reconstruction loss\n",
        "        recon = tf.reduce_mean(tf.nn.sigmoid_cross_entropy_with_logits(logits=xhat, labels=x))\n",
        "        \n",
        "        # KL divergence loss\n",
        "        # KL( q(z|x) || N(mu, sigma) )\n",
        "        KL_div = - 0.5 * tf.reduce_sum(1 + log_stddev - tf.square(mean) - tf.square(tf.exp(log_stddev)), axis=-1)\n",
        "        \n",
        "        final_loss = tf.reduce_mean(recon + KL_div)\n",
        "        \n",
        "        return final_loss"
      ],
      "execution_count": 0,
      "outputs": []
    },
    {
      "metadata": {
        "id": "_yECsgGxiUCG",
        "colab_type": "code",
        "colab": {}
      },
      "cell_type": "code",
      "source": [
        "# placeholder for inputs\n",
        "x_input = tf.placeholder(tf.float32, [batch, x_train.shape[1], x_train.shape[2], x_train.shape[3]])\n",
        "\n",
        "# placeholder for ground truth images\n",
        "x_output = tf.placeholder(tf.float32, [batch, x_train.shape[1], x_train.shape[2], x_train.shape[3]])"
      ],
      "execution_count": 0,
      "outputs": []
    },
    {
      "metadata": {
        "id": "u-rk-y68iMnp",
        "colab_type": "code",
        "outputId": "a10b3a72-3b83-4eed-d129-eab23a5774ff",
        "colab": {
          "base_uri": "https://localhost:8080/",
          "height": 290
        }
      },
      "cell_type": "code",
      "source": [
        "with tf.device(\"/gpu:0\"):\n",
        "    # initialising autoencoder model\n",
        "    model = vae(batch_size = batch)\n",
        "\n",
        "    Encoder, means, log_sigma = model.encoder(x_input)\n",
        "    Decoder = model.decoder(Encoder)\n",
        "    Cost = model.AutoencoderLoss(x_input, Decoder, means, log_sigma)\n",
        "\n",
        "    # optimizing\n",
        "    opt = tf.train.AdamOptimizer(0.005).minimize(Cost)"
      ],
      "execution_count": 62,
      "outputs": [
        {
          "output_type": "stream",
          "text": [
            "Encoder\n",
            "en1  :  (50, 14, 14, 16)\n",
            "en2  :  (50, 7, 7, 32)\n",
            "en3  :  (50, 3, 3, 64)\n",
            "mu   :  (50, 576)\n",
            "flat :  (50, 576)\n",
            "sigma:  (50, 576)\n",
            "z    :  (50, 576)\n",
            "\n",
            "Decoder\n",
            "de1  :  (50, 6, 6, 64)\n",
            "de2  :  (50, 14, 14, 32)\n",
            "de3  :  (50, 28, 28, 16)\n",
            "final:  (50, 28, 28, 1)\n",
            "\n"
          ],
          "name": "stdout"
        }
      ]
    },
    {
      "metadata": {
        "id": "fMUl_KhOctsb",
        "colab_type": "code",
        "colab": {}
      },
      "cell_type": "code",
      "source": [
        "sess = tf.Session(config=tf.ConfigProto(log_device_placement=True))\n",
        "sess.run(tf.global_variables_initializer())\n",
        "\n",
        "epochs = 200\n",
        "\n",
        "cost_list = []\n",
        "\n",
        "for i in range(epochs):\n",
        "    x_batch = mini_batch(x_train, batch)\n",
        "    sess.run(opt, {x_input: x_batch})\n",
        "    \n",
        "    cost_list.append(sess.run(Cost, {x_input: x_batch}))"
      ],
      "execution_count": 0,
      "outputs": []
    },
    {
      "metadata": {
        "id": "Wv3Fam97d4v9",
        "colab_type": "code",
        "outputId": "a5b43de2-7d3b-4542-dc21-33df6697e81d",
        "colab": {
          "base_uri": "https://localhost:8080/",
          "height": 379
        }
      },
      "cell_type": "code",
      "source": [
        "plt.plot(range(0, len(cost_list)), cost_list)\n",
        "plt.xlabel(\"iterations\")\n",
        "plt.ylabel(\"cost\")\n",
        "plt.show()\n",
        "cost_list[-1]"
      ],
      "execution_count": 68,
      "outputs": [
        {
          "output_type": "display_data",
          "data": {
            "image/png": "[encoded data removed]",
            "text/plain": [
              "<Figure size 576x396 with 1 Axes>"
            ]
          },
          "metadata": {
            "tags": []
          }
        },
        {
          "output_type": "execute_result",
          "data": {
            "text/plain": [
              "60.83995"
            ]
          },
          "metadata": {
            "tags": []
          },
          "execution_count": 68
        }
      ]
    },
    {
      "metadata": {
        "id": "mlpvJX3NeozO",
        "colab_type": "code",
        "colab": {}
      },
      "cell_type": "code",
      "source": [
        "m = 0\n",
        "std = 1\n",
        "\n",
        "# placeholder for test input\n",
        "test_input_ph = tf.placeholder(tf.float32, [batch, 3,3,20])\n",
        "# sampling randomly from Gaussian distribution\n",
        "test_input = np.random.normal(size=[batch, 3, 3, 20], loc=m, scale=std)\n",
        "\n",
        "# get decoder output\n",
        "test_decoder = Decoder\n",
        "test_output = sess.run(test_decoder, {x_input: x_test[0:batch, :]})\n",
        "test_output = np.clip(test_output, 0., 1.)"
      ],
      "execution_count": 0,
      "outputs": []
    },
    {
      "metadata": {
        "id": "REBinPzpLwte",
        "colab_type": "code",
        "outputId": "96699247-ffc2-4ba7-f019-ddface1812a9",
        "colab": {
          "base_uri": "https://localhost:8080/",
          "height": 485
        }
      },
      "cell_type": "code",
      "source": [
        "# to plot images reshape image array to [n, 28, 28]\n",
        "test_output = test_output.reshape((test_output.shape[0], test_output.shape[1], test_output.shape[2])) \n",
        "\n",
        "# plotting reconstructed images\n",
        "w=10\n",
        "h=10\n",
        "fig=plt.figure(figsize=(8, 8))\n",
        "columns = 4\n",
        "rows = 5\n",
        "j = 0\n",
        "for i in range(1, columns*rows +1):\n",
        "    fig.add_subplot(rows, columns, i)\n",
        "    plt.imshow(test_output[j])\n",
        "    j+=1\n",
        "    \n",
        "plt.show()"
      ],
      "execution_count": 70,
      "outputs": [
        {
          "output_type": "display_data",
          "data": {
            "image/png": "[encoded data removed]",
            "text/plain": [
              "<Figure size 576x576 with 20 Axes>"
            ]
          },
          "metadata": {
            "tags": []
          }
        }
      ]
    },
    {
      "metadata": {
        "id": "fLMJBVl0qug2",
        "colab_type": "code",
        "colab": {}
      },
      "cell_type": "code",
      "source": [
        ""
      ],
      "execution_count": 0,
      "outputs": []
    }
  ]
}