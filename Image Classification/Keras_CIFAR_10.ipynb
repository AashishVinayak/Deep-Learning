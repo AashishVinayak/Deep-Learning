{
 "cells": [
  {
   "cell_type": "code",
   "execution_count": 1,
   "metadata": {},
   "outputs": [
    {
     "name": "stderr",
     "output_type": "stream",
     "text": [
      "c:\\python 3.5.2\\lib\\site-packages\\h5py\\__init__.py:36: FutureWarning: Conversion of the second argument of issubdtype from `float` to `np.floating` is deprecated. In future, it will be treated as `np.float64 == np.dtype(float).type`.\n",
      "  from ._conv import register_converters as _register_converters\n",
      "Using TensorFlow backend.\n"
     ]
    }
   ],
   "source": [
    "'''\n",
    "    CIFAR-10 Image Classification using Keras\n",
    "'''\n",
    "import numpy as np\n",
    "from keras.datasets import cifar10\n",
    "from keras.models import Sequential\n",
    "from keras.layers import Dense,Dropout,Flatten,Activation\n",
    "from keras.layers import Convolution2D, MaxPooling2D\n",
    "from keras.utils import np_utils\n",
    "np.random.seed(123)"
   ]
  },
  {
   "cell_type": "code",
   "execution_count": 3,
   "metadata": {},
   "outputs": [],
   "source": [
    "# importing training and test data\n",
    "(x_train, y_train),(x_test,y_test) = cifar10.load_data()\n",
    "\n",
    "# preprocessing\n",
    "x_train = x_train.astype('float32')\n",
    "x_test = x_test.astype('float32')\n",
    "\n",
    "y_train = np_utils.to_categorical(y_train, 10)\n",
    "y_test = np_utils.to_categorical(y_test, 10)"
   ]
  },
  {
   "cell_type": "code",
   "execution_count": 4,
   "metadata": {},
   "outputs": [
    {
     "name": "stderr",
     "output_type": "stream",
     "text": [
      "c:\\python 3.5.2\\lib\\site-packages\\ipykernel_launcher.py:4: UserWarning: Update your `Conv2D` call to the Keras 2 API: `Conv2D(16, (2, 2), activation=\"relu\", input_shape=(32, 32, 3...)`\n",
      "  after removing the cwd from sys.path.\n",
      "c:\\python 3.5.2\\lib\\site-packages\\ipykernel_launcher.py:5: UserWarning: Update your `Conv2D` call to the Keras 2 API: `Conv2D(16, (2, 2), activation=\"relu\")`\n",
      "  \"\"\"\n"
     ]
    }
   ],
   "source": [
    "# model architecture\n",
    "model = Sequential()\n",
    "\n",
    "model.add(Convolution2D(16,2,2, activation= 'relu', input_shape = (32,32,3)))\n",
    "model.add(Convolution2D(16,2,2, activation = 'relu'))\n",
    "model.add(MaxPooling2D(pool_size = (2,2)))\n",
    "model.add(Dropout(0.25))\n",
    "model.add(Flatten())\n",
    "model.add(Dense(50,activation = 'relu'))\n",
    "model.add(Dropout(0.25))\n",
    "model.add(Dense(10, activation = 'softmax'))\n",
    "# loss function and optimization\n",
    "model.compile(loss = 'categorical_crossentropy', optimizer = 'adam', metrics=['accuracy'])"
   ]
  },
  {
   "cell_type": "code",
   "execution_count": 9,
   "metadata": {},
   "outputs": [
    {
     "name": "stdout",
     "output_type": "stream",
     "text": [
      "Epoch 1/20\n",
      "\r",
      "  100/50000 [..............................] - ETA: 1:24 - loss: 1.1148 - acc: 0.6100"
     ]
    },
    {
     "name": "stderr",
     "output_type": "stream",
     "text": [
      "c:\\python 3.5.2\\lib\\site-packages\\keras\\models.py:942: UserWarning: The `nb_epoch` argument in `fit` has been renamed `epochs`.\n",
      "  warnings.warn('The `nb_epoch` argument in `fit` '\n"
     ]
    },
    {
     "name": "stdout",
     "output_type": "stream",
     "text": [
      "50000/50000 [==============================] - 90s 2ms/step - loss: 1.1558 - acc: 0.5864\n",
      "Epoch 2/20\n",
      "50000/50000 [==============================] - 92s 2ms/step - loss: 1.1009 - acc: 0.6057\n",
      "Epoch 3/20\n",
      "50000/50000 [==============================] - 91s 2ms/step - loss: 1.0552 - acc: 0.6226\n",
      "Epoch 4/20\n",
      "50000/50000 [==============================] - 93s 2ms/step - loss: 1.0227 - acc: 0.6333\n",
      "Epoch 5/20\n",
      "50000/50000 [==============================] - 96s 2ms/step - loss: 1.0000 - acc: 0.6410\n",
      "Epoch 6/20\n",
      "50000/50000 [==============================] - 92s 2ms/step - loss: 0.9771 - acc: 0.6481: 2s - loss: 0.9765 -\n",
      "Epoch 7/20\n",
      "50000/50000 [==============================] - 98s 2ms/step - loss: 0.9585 - acc: 0.6580: 4s - loss:\n",
      "Epoch 8/20\n",
      "50000/50000 [==============================] - 101s 2ms/step - loss: 0.9325 - acc: 0.6638\n",
      "Epoch 9/20\n",
      "50000/50000 [==============================] - 103s 2ms/step - loss: 0.9176 - acc: 0.6704\n",
      "Epoch 10/20\n",
      "50000/50000 [==============================] - 104s 2ms/step - loss: 0.9014 - acc: 0.6733\n",
      "Epoch 11/20\n",
      "50000/50000 [==============================] - 102s 2ms/step - loss: 0.8893 - acc: 0.6809\n",
      "Epoch 12/20\n",
      "50000/50000 [==============================] - 95s 2ms/step - loss: 0.8639 - acc: 0.6893: 0s - loss: 0.8638 - acc: 0.689\n",
      "Epoch 13/20\n",
      "50000/50000 [==============================] - 94s 2ms/step - loss: 0.8560 - acc: 0.6915: 9s - loss: 0.8533 - \n",
      "Epoch 14/20\n",
      "50000/50000 [==============================] - 96s 2ms/step - loss: 0.8483 - acc: 0.6959\n",
      "Epoch 15/20\n",
      "50000/50000 [==============================] - 91s 2ms/step - loss: 0.8430 - acc: 0.6952: 0s - loss: 0.8428 - acc: 0.\n",
      "Epoch 16/20\n",
      "50000/50000 [==============================] - 100s 2ms/step - loss: 0.8268 - acc: 0.7011\n",
      "Epoch 17/20\n",
      "50000/50000 [==============================] - 100s 2ms/step - loss: 0.8183 - acc: 0.7052\n",
      "Epoch 18/20\n",
      "50000/50000 [==============================] - 100s 2ms/step - loss: 0.8172 - acc: 0.7046\n",
      "Epoch 19/20\n",
      "50000/50000 [==============================] - 104s 2ms/step - loss: 0.8060 - acc: 0.7092\n",
      "Epoch 20/20\n",
      "50000/50000 [==============================] - 98s 2ms/step - loss: 0.7966 - acc: 0.7132\n",
      "10000/10000 [==============================] - 9s 878us/step\n",
      "\n",
      "\n",
      "score:  [1.1777895246505736, 0.6089]\n"
     ]
    }
   ],
   "source": [
    "# training \n",
    "model.fit(x_train, y_train, batch_size=100, nb_epoch = 20)\n",
    "score = model.evaluate(x_test, y_test)\n",
    "print(\"\\n\\nscore: \", score)"
   ]
  }
 ],
 "metadata": {
  "kernelspec": {
   "display_name": "Python 3",
   "language": "python",
   "name": "python3"
  },
  "language_info": {
   "codemirror_mode": {
    "name": "ipython",
    "version": 3
   },
   "file_extension": ".py",
   "mimetype": "text/x-python",
   "name": "python",
   "nbconvert_exporter": "python",
   "pygments_lexer": "ipython3",
   "version": "3.5.2"
  }
 },
 "nbformat": 4,
 "nbformat_minor": 2
}
