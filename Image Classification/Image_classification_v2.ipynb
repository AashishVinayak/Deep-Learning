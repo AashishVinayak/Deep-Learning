{
  "nbformat": 4,
  "nbformat_minor": 0,
  "metadata": {
    "colab": {
      "name": "Image classification v2",
      "version": "0.3.2",
      "provenance": [],
      "collapsed_sections": []
    },
    "kernelspec": {
      "name": "python3",
      "display_name": "Python 3"
    },
    "accelerator": "GPU"
  },
  "cells": [
    {
      "metadata": {
        "id": "m-uz93KknAjU",
        "colab_type": "code",
        "colab": {}
      },
      "cell_type": "code",
      "source": [
        "import tensorflow as tf\n",
        "import numpy as np\n",
        "from keras.datasets import cifar10\n",
        "import matplotlib.pyplot as plt\n",
        "import random\n",
        "from keras.utils import to_categorical"
      ],
      "execution_count": 0,
      "outputs": []
    },
    {
      "metadata": {
        "id": "B108zPUMnKOk",
        "colab_type": "code",
        "colab": {}
      },
      "cell_type": "code",
      "source": [
        "(x_train, y_train), (x_test, y_test) = cifar10.load_data()\n",
        "\n",
        "x_train= x_train/255\n",
        "x_test = x_test/255"
      ],
      "execution_count": 0,
      "outputs": []
    },
    {
      "metadata": {
        "id": "4EAD0sh_pbcE",
        "colab_type": "code",
        "colab": {}
      },
      "cell_type": "code",
      "source": [
        "# one_hot maker\n",
        "def one_hot(vector):\n",
        "    one_hot_vec = np.zeros([len(vector), int(max(vector[0:len(vector)])+1)])\n",
        "    \n",
        "    for i in range(len(one_hot_vec)):\n",
        "        one_hot_vec[i, vector[i, 0]] = 1\n",
        "       \n",
        "    return one_hot_vec"
      ],
      "execution_count": 0,
      "outputs": []
    },
    {
      "metadata": {
        "id": "6dz34dzC0KwV",
        "colab_type": "code",
        "colab": {}
      },
      "cell_type": "code",
      "source": [
        "# creating minibatches\n",
        "def mini_batch(X, Y, size):\n",
        "    idx = np.random.randint(np.size(Y[:, 0]), size = (size,1))\n",
        "    x_bat = X[idx]\n",
        "    x_bat = x_bat.reshape(size, 32, 32, 3)\n",
        "    y_bat = Y[idx]\n",
        "    y_bat = y_bat.reshape(size, 10)\n",
        "    \n",
        "    return x_bat, y_bat"
      ],
      "execution_count": 0,
      "outputs": []
    },
    {
      "metadata": {
        "id": "s10LIivyqki7",
        "colab_type": "code",
        "colab": {}
      },
      "cell_type": "code",
      "source": [
        "tf.reset_default_graph()\n",
        "# placeholders\n",
        "x = tf.placeholder(tf.float32, [None,32,32,3])\n",
        "y = tf.placeholder(tf.float32,[None, 10])\n",
        "\n",
        "# weights\n",
        "\n",
        "w1 = tf.get_variable('w1', [2,2,3,80], initializer=tf.contrib.layers.xavier_initializer())\n",
        "b1 = tf.get_variable('b1', [80], initializer=tf.contrib.layers.xavier_initializer())\n",
        "w2 = tf.get_variable('w2', [2,2,80,80], initializer=tf.contrib.layers.xavier_initializer())\n",
        "b2 = tf.get_variable('b2', [80], initializer=tf.contrib.layers.xavier_initializer())"
      ],
      "execution_count": 0,
      "outputs": []
    },
    {
      "metadata": {
        "id": "LkXIMsLkvfkb",
        "colab_type": "code",
        "colab": {
          "base_uri": "https://localhost:8080/",
          "height": 145
        },
        "outputId": "ced2168f-3d4d-4e7c-e793-f9659a84548c"
      },
      "cell_type": "code",
      "source": [
        "# CNN model\n",
        "with tf.device(\"/gpu:0\"):\n",
        "    conv1 = tf.nn.conv2d(x, w1, strides = [1,1,1,1], padding = 'SAME')\n",
        "    bias1 = tf.nn.bias_add(conv1, b1)\n",
        "    h1 = tf.nn.relu(bias1)\n",
        "    \n",
        "    m1 = tf.nn.max_pool(h1, ksize = [1,2,2,1], strides = [1,2,2,1], padding = 'SAME')\n",
        "    drop_1 = tf.nn.dropout(m1, 0.8)\n",
        "    \n",
        "    conv2 = tf.nn.conv2d(drop_1, w2, strides = [1,1,1,1], padding = 'SAME')\n",
        "    bias2 = tf.nn.bias_add(conv2, b2)\n",
        "    h2 = tf.nn.relu(bias2)\n",
        "    \n",
        "    m2 = tf.nn.max_pool(h2, ksize = [1,2,2,1], strides = [1,2,2,1], padding = 'SAME')\n",
        "    drop_2 = tf.nn.dropout(m2, 0.8)\n",
        "    \n",
        "    flat_0 = tf.contrib.layers.flatten(drop_2)\n",
        "    flat_1 = tf.layers.dense(flat_0, 256, activation='relu')\n",
        "    classifier = tf.layers.dense(flat_1, 10, activation=tf.nn.softmax)\n",
        "    \n",
        "    loss = tf.reduce_mean(tf.nn.softmax_cross_entropy_with_logits_v2(logits=classifier, labels=y))\n",
        "    optimizer = tf.train.GradientDescentOptimizer(0.01).minimize(loss)\n",
        "    \n",
        "    print('model summary')\n",
        "    print('x      : ', x.shape)\n",
        "    print('conv1  : ', drop_1.shape)\n",
        "    print('conv2  : ', drop_2.shape)\n",
        "    print('flat_0 : ', flat_0.shape)\n",
        "    print('flat_1 : ', flat_1.shape)\n",
        "    print('final  : ', classifier.shape)"
      ],
      "execution_count": 35,
      "outputs": [
        {
          "output_type": "stream",
          "text": [
            "model summary\n",
            "x      :  (?, 32, 32, 3)\n",
            "conv1  :  (?, 16, 16, 80)\n",
            "conv2  :  (?, 8, 8, 80)\n",
            "flat_0 :  (?, 5120)\n",
            "flat_1 :  (?, 256)\n",
            "final  :  (?, 10)\n"
          ],
          "name": "stdout"
        }
      ]
    },
    {
      "metadata": {
        "id": "1Bbv8Q-6xwcI",
        "colab_type": "code",
        "colab": {
          "base_uri": "https://localhost:8080/",
          "height": 108
        },
        "outputId": "d739f580-cae4-40db-930c-083ef14533c2"
      },
      "cell_type": "code",
      "source": [
        "sess = tf.Session(config=tf.ConfigProto(log_device_placement=True))\n",
        "sess.run(tf.global_variables_initializer())\n",
        "\n",
        "cost = []\n",
        "# training\n",
        "for epoch in range(999):\n",
        "    x_batch, y_batch = mini_batch(x_train, to_categorical(y_train, num_classes=10), 600)\n",
        "    training_step = sess.run(optimizer, {x: x_batch, y: y_batch})\n",
        "    \n",
        "    if epoch%200==0:\n",
        "        print(\"Iteration: \", epoch)\n",
        "    \n",
        "    cost.append(sess.run(loss, {x: x_batch, y: y_batch}))"
      ],
      "execution_count": 36,
      "outputs": [
        {
          "output_type": "stream",
          "text": [
            "Iteration:  0\n",
            "Iteration:  200\n",
            "Iteration:  400\n",
            "Iteration:  600\n",
            "Iteration:  800\n"
          ],
          "name": "stdout"
        }
      ]
    },
    {
      "metadata": {
        "id": "SRnr3lac6EvJ",
        "colab_type": "code",
        "colab": {
          "base_uri": "https://localhost:8080/",
          "height": 361
        },
        "outputId": "976ec358-4044-4dce-b88f-c9aa0ba0a56c"
      },
      "cell_type": "code",
      "source": [
        "plt.plot(range(0, epoch+1), cost[:])\n",
        "plt.xlabel(\"ITERATION\")\n",
        "plt.ylabel(\"LOSS\")\n",
        "plt.show()"
      ],
      "execution_count": 37,
      "outputs": [
        {
          "output_type": "display_data",
          "data": {
            "image/png": "[encoded data removed]",
            "text/plain": [
              "<matplotlib.figure.Figure at 0x7fb305949ef0>"
            ]
          },
          "metadata": {
            "tags": []
          }
        }
      ]
    },
    {
      "metadata": {
        "id": "WgaSbltk6cli",
        "colab_type": "code",
        "colab": {
          "base_uri": "https://localhost:8080/",
          "height": 90
        },
        "outputId": "75013a52-2d10-4b22-bc01-77b55b72a884"
      },
      "cell_type": "code",
      "source": [
        "randomness = range(1, 6000)\n",
        "# test set evaluation\n",
        "test_loss = sess.run(loss, {x: x_test[randomness], y: one_hot(y_test[randomness])})\n",
        "\n",
        "print(\"loss on training set : \", cost[-1])\n",
        "print(\"loss on test set     : \", test_loss)\n",
        "\n",
        "# metrics\n",
        "test_true= tf.equal(np.argmax(sess.run(classifier, {x: x_test[randomness]}), axis=1), np.argmax(y_test[randomness], axis=1))\n",
        "test_accuracy = tf.reduce_mean(tf.cast(test_true, dtype=\"float\"))\n",
        "\n",
        "train_true = tf.equal(np.argmax(sess.run(classifier, {x: x_train[randomness]}), axis=1), np.argmax(y_train[randomness], axis=1))\n",
        "train_accuracy = tf.reduce_mean(tf.cast(train_true, dtype=\"float\"))\n",
        "\n",
        "train_score = sess.run(train_accuracy)*100\n",
        "test_score = sess.run(test_accuracy)*100\n",
        "\n",
        "print(\"train accuracy : %.2f\" %train_score, \"%\")\n",
        "print(\"test accuracy  : %.2f\" %test_score, \"%\")"
      ],
      "execution_count": 38,
      "outputs": [
        {
          "output_type": "stream",
          "text": [
            "loss on training set :  2.2950764\n",
            "loss on test set     :  2.2940054\n",
            "train accuracy : 91.00 %\n",
            "test accuracy  : 91.10 %\n"
          ],
          "name": "stdout"
        }
      ]
    },
    {
      "metadata": {
        "id": "VE5G-Dp5Uav2",
        "colab_type": "text"
      },
      "cell_type": "markdown",
      "source": [
        "## Things I've tried\n",
        "1. Residual network\n",
        "2. lots of learning rates\n",
        "3. cnn with 4 to 7 layers\n",
        "4. Average pooling\n",
        "5. A **LOT** of neural network models\n",
        "\n",
        "## What Worked\n",
        "\n",
        "1. Switching from Adam optimizer to Gradient Descent optimizer\n",
        "2. Using a wider network instead of a deeper one, since, the images are of smaller resolution which causes vanishing gradient problem\n",
        "3. For Mini Batch SGD, the batch size should be somewhat bigger\n",
        "4. messing around with the learning rate a **lot**\n",
        "\n",
        "## Lessons learned\n",
        "1. Always start with very simple and shallow model\n",
        "2. **Always gather lots of data with high resolution images**\n",
        "3. Early Stopping helps\n",
        "\n",
        "## Helpful article\n",
        "https://towardsdatascience.com/7-practical-deep-learning-tips-97a9f514100e"
      ]
    }
  ]
}