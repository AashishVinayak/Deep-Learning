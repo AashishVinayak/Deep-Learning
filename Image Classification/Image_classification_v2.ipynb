{
  "nbformat": 4,
  "nbformat_minor": 0,
  "metadata": {
    "colab": {
      "name": "Image classification v2",
      "version": "0.3.2",
      "provenance": [],
      "collapsed_sections": []
    },
    "kernelspec": {
      "name": "python3",
      "display_name": "Python 3"
    },
    "accelerator": "GPU"
  },
  "cells": [
    {
      "metadata": {
        "id": "m-uz93KknAjU",
        "colab_type": "code",
        "colab": {
          "base_uri": "https://localhost:8080/",
          "height": 35
        },
        "outputId": "a06d59d4-1e5a-49ab-f5d5-37f2a99ef053"
      },
      "cell_type": "code",
      "source": [
        "import tensorflow as tf\n",
        "import numpy as np\n",
        "from keras.datasets import cifar10\n",
        "import matplotlib.pyplot as plt\n",
        "import random"
      ],
      "execution_count": 1,
      "outputs": [
        {
          "output_type": "stream",
          "text": [
            "Using TensorFlow backend.\n"
          ],
          "name": "stderr"
        }
      ]
    },
    {
      "metadata": {
        "id": "B108zPUMnKOk",
        "colab_type": "code",
        "colab": {
          "base_uri": "https://localhost:8080/",
          "height": 54
        },
        "outputId": "b38fc1cf-1b38-41ed-c9b2-bb7c702a18f2"
      },
      "cell_type": "code",
      "source": [
        "(x_train, y_train), (x_test, y_test) = cifar10.load_data()\n",
        "\n",
        "\"\"\"\n",
        "del(x_test, y_test)\n",
        "x_train = x_train/255\n",
        "\n",
        "x_test = x_train[40000:50000]\n",
        "y_test = y_train[40000:50000]\n",
        "\n",
        "x_train = x_train[0:40000]\n",
        "y_train = y_train[0:40000]\n",
        "\"\"\"\n",
        "x_train= x_train/255\n",
        "x_test = x_test/255"
      ],
      "execution_count": 2,
      "outputs": [
        {
          "output_type": "stream",
          "text": [
            "Downloading data from https://www.cs.toronto.edu/~kriz/cifar-10-python.tar.gz\n",
            "170500096/170498071 [==============================] - 15s 0us/step\n"
          ],
          "name": "stdout"
        }
      ]
    },
    {
      "metadata": {
        "id": "4EAD0sh_pbcE",
        "colab_type": "code",
        "colab": {}
      },
      "cell_type": "code",
      "source": [
        "# one_hot maker\n",
        "def one_hot(vector):\n",
        "    one_hot_vec = np.zeros([len(vector), int(max(vector[0:len(vector)])+1)])\n",
        "    \n",
        "    for i in range(len(one_hot_vec)):\n",
        "        one_hot_vec[i, vector[i, 0]] = 1\n",
        "       \n",
        "    return one_hot_vec"
      ],
      "execution_count": 0,
      "outputs": []
    },
    {
      "metadata": {
        "id": "6dz34dzC0KwV",
        "colab_type": "code",
        "colab": {}
      },
      "cell_type": "code",
      "source": [
        "# creating minibatches\n",
        "def mini_batch(X, Y, size):\n",
        "    idx = np.random.randint(np.size(Y[:, 0]), size = (size,1))\n",
        "    x_bat = X[idx]\n",
        "    x_bat = x_bat.reshape(size, 32, 32, 3)\n",
        "    y_bat = Y[idx]\n",
        "    y_bat = y_bat.reshape(size, 10)\n",
        "    \n",
        "    return x_bat, y_bat"
      ],
      "execution_count": 0,
      "outputs": []
    },
    {
      "metadata": {
        "id": "s10LIivyqki7",
        "colab_type": "code",
        "colab": {}
      },
      "cell_type": "code",
      "source": [
        "tf.reset_default_graph()\n",
        "# placeholders\n",
        "x = tf.placeholder(tf.float32, [None,32,32,3])\n",
        "y = tf.placeholder(tf.float32,[None, 10])\n",
        "\n",
        "# weights\n",
        "\n",
        "w1 = tf.get_variable('w1', [4,4,3,32], initializer=tf.contrib.layers.xavier_initializer())\n",
        "w2 = tf.get_variable('w2', [4,4,32,64], initializer=tf.contrib.layers.xavier_initializer())\n",
        "w3 = tf.get_variable('w3', [4,4,64,128], initializer=tf.contrib.layers.xavier_initializer())\n",
        "w4 = tf.get_variable('w4', [4,4,128,256], initializer=tf.contrib.layers.xavier_initializer())\n",
        "w5 = tf.get_variable('w5', [4,4,256,512], initializer=tf.contrib.layers.xavier_initializer())"
      ],
      "execution_count": 0,
      "outputs": []
    },
    {
      "metadata": {
        "id": "LkXIMsLkvfkb",
        "colab_type": "code",
        "colab": {
          "base_uri": "https://localhost:8080/",
          "height": 217
        },
        "outputId": "fc7fb6d1-eca8-406b-bea6-c5e0177250b7"
      },
      "cell_type": "code",
      "source": [
        "# CNN model\n",
        "with tf.device(\"/gpu:0\"):\n",
        "    c1 = tf.nn.relu(tf.nn.conv2d(x, w1, strides = [1,1,1,1], padding = 'SAME'))\n",
        "    m1 = tf.nn.avg_pool(c1, ksize = [1,2,2,1], strides = [1,2,2,1], padding = 'SAME')\n",
        "    \n",
        "    c2 = tf.nn.relu(tf.nn.conv2d(m1, w2, strides = [1,1,1,1], padding='SAME'))\n",
        "    c3 = tf.nn.relu(tf.nn.conv2d(c2, w3, strides = [1,1,1,1], padding='SAME'))\n",
        "    m2 = tf.nn.avg_pool(c3, ksize = [1,2,2,1], strides = [1,2,2,1], padding = 'SAME')\n",
        "    \n",
        "    drop_1 = tf.nn.dropout(m2, 0.8)\n",
        "    \n",
        "    c4 = tf.nn.relu(tf.nn.conv2d(drop_1, w4, strides = [1,1,1,1], padding='SAME'))\n",
        "    c5 = tf.nn.relu(tf.nn.conv2d(c4, w5, strides = [1,1,1,1], padding='SAME'))\n",
        "    drop_2 = tf.nn.dropout(c5, 0.8)\n",
        "    \n",
        "    # flattening the previous max pool layer\n",
        "    flat = tf.contrib.layers.flatten(drop_2)\n",
        "    \n",
        "    final = tf.layers.dense(flat, 10)\n",
        "    \n",
        "    classifier = tf.nn.softmax(final)\n",
        "    \n",
        "    print('model summary')\n",
        "    print('x     : ', x.shape)\n",
        "    print('c1    : ', c1.shape)\n",
        "    print('m1    : ', m1.shape)\n",
        "    print('c2    : ', c2.shape)\n",
        "    print('c3    : ', c3.shape)\n",
        "    print('m2    : ', m2.shape)\n",
        "    print('c4    : ', c4.shape)\n",
        "    print('c5    : ', c5.shape)\n",
        "    print('flat  : ', flat.shape)\n",
        "    print('final : ', classifier.shape)\n",
        "    \n",
        "    \n",
        "    # optimization\n",
        "    loss = tf.reduce_mean(tf.nn.softmax_cross_entropy_with_logits_v2(logits = final, labels = y))\n",
        "    optimizer = tf.train.AdamOptimizer(0.001).minimize(loss)"
      ],
      "execution_count": 48,
      "outputs": [
        {
          "output_type": "stream",
          "text": [
            "model summary\n",
            "x     :  (?, 32, 32, 3)\n",
            "c1    :  (?, 32, 32, 32)\n",
            "m1    :  (?, 16, 16, 32)\n",
            "c2    :  (?, 16, 16, 64)\n",
            "c3    :  (?, 16, 16, 128)\n",
            "m2    :  (?, 8, 8, 128)\n",
            "c4    :  (?, 8, 8, 256)\n",
            "c5    :  (?, 8, 8, 512)\n",
            "flat  :  (?, 32768)\n",
            "final :  (?, 10)\n"
          ],
          "name": "stdout"
        }
      ]
    },
    {
      "metadata": {
        "id": "1Bbv8Q-6xwcI",
        "colab_type": "code",
        "colab": {
          "base_uri": "https://localhost:8080/",
          "height": 72
        },
        "outputId": "0a856548-dd62-4d80-dee7-aeb4782441d9"
      },
      "cell_type": "code",
      "source": [
        "sess = tf.Session(config=tf.ConfigProto(log_device_placement=True))\n",
        "sess.run(tf.global_variables_initializer())\n",
        "\n",
        "cost = []\n",
        "# training\n",
        "for epoch in range(1200):\n",
        "    x_batch, y_batch = mini_batch(x_train, one_hot(y_train), 64)\n",
        "    training_step = sess.run(optimizer, {x: x_batch, y: y_batch})\n",
        "    \n",
        "    if epoch%500==0:\n",
        "        print(\"Iteration: \", epoch)\n",
        "    \n",
        "    cost.append(sess.run(loss, {x: x_batch, y: y_batch}))"
      ],
      "execution_count": 49,
      "outputs": [
        {
          "output_type": "stream",
          "text": [
            "Iteration:  0\n",
            "Iteration:  500\n",
            "Iteration:  1000\n"
          ],
          "name": "stdout"
        }
      ]
    },
    {
      "metadata": {
        "id": "SRnr3lac6EvJ",
        "colab_type": "code",
        "colab": {
          "base_uri": "https://localhost:8080/",
          "height": 361
        },
        "outputId": "fd01c9c8-5485-4076-8795-8bf591bbf6bd"
      },
      "cell_type": "code",
      "source": [
        "plt.plot(range(0, epoch+1), cost[:])\n",
        "plt.xlabel(\"ITERATION\")\n",
        "plt.ylabel(\"LOSS\")\n",
        "plt.show()"
      ],
      "execution_count": 50,
      "outputs": [
        {
          "output_type": "display_data",
          "data": {
            "image/png": "[encoded data removed]",
            "text/plain": [
              "<matplotlib.figure.Figure at 0x7fbc803a32e8>"
            ]
          },
          "metadata": {
            "tags": []
          }
        }
      ]
    },
    {
      "metadata": {
        "id": "WgaSbltk6cli",
        "colab_type": "code",
        "colab": {
          "base_uri": "https://localhost:8080/",
          "height": 90
        },
        "outputId": "921f2b2c-1f91-48c0-f52c-52682677e00e"
      },
      "cell_type": "code",
      "source": [
        "randomness = range(1, 6000)\n",
        "# test set evaluation\n",
        "test_loss = sess.run(loss, {x: x_test[randomness], y: one_hot(y_test[randomness])})\n",
        "\n",
        "print(\"loss on training set : \", cost[-1])\n",
        "print(\"loss on test set     : \", test_loss)\n",
        "\n",
        "# metrics\n",
        "test_true= tf.equal(np.argmax(sess.run(classifier, {x: x_test[randomness]}), axis=1), np.argmax(y_test[randomness], axis=1))\n",
        "test_accuracy = tf.reduce_mean(tf.cast(test_true, dtype=\"float\"))\n",
        "\n",
        "train_true = tf.equal(np.argmax(sess.run(classifier, {x: x_train[randomness]}), axis=1), np.argmax(y_train[randomness], axis=1))\n",
        "train_accuracy = tf.reduce_mean(tf.cast(train_true, dtype=\"float\"))\n",
        "\n",
        "train_score = sess.run(train_accuracy)*100\n",
        "test_score = sess.run(test_accuracy)*100\n",
        "\n",
        "print(\"train accuracy : %.2f\" %train_score, \"%\")\n",
        "print(\"test accuracy  : %.2f\" %test_score, \"%\")"
      ],
      "execution_count": 51,
      "outputs": [
        {
          "output_type": "stream",
          "text": [
            "loss on training set :  0.8140873\n",
            "loss on test set     :  1.0838499\n",
            "train accuracy : 7.20 %\n",
            "test accuracy  : 7.12 %\n"
          ],
          "name": "stdout"
        }
      ]
    }
  ]
}