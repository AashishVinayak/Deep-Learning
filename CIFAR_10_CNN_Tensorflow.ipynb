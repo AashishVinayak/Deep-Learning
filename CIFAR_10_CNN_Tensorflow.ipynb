{
 "cells": [
  {
   "cell_type": "code",
   "execution_count": 1,
   "metadata": {},
   "outputs": [],
   "source": [
    "\"\"\"\n",
    "    Image classification using convolutional neural network\n",
    "    dataset: CIFAR-10\n",
    "    Framework: Tensorflow\n",
    "\"\"\"\n",
    "\n",
    "import tensorflow as tf\n",
    "import pandas as pd\n",
    "import numpy as np\n",
    "import glob\n",
    "import cv2\n",
    "from IPython.display import clear_output"
   ]
  },
  {
   "cell_type": "code",
   "execution_count": 2,
   "metadata": {},
   "outputs": [],
   "source": [
    "label_list = ['airplane', 'automobile', 'bird', 'cat', 'deer', 'dog', 'frog', 'horse', 'ship', 'truck']\n",
    "\n",
    "# creating one-hot matrix of the output labels\n",
    "def one_hot(base):\n",
    "    # one_hot matrix\n",
    "    hot_matrix = np.zeros([np.size(base[:, 0]), 10], dtype = float)\n",
    "    for i in range(np.size(base[:, 0])):\n",
    "        word = base[i, 1]\n",
    "        hot_matrix[i, label_list.index(word)] = 1\n",
    "    return hot_matrix"
   ]
  },
  {
   "cell_type": "code",
   "execution_count": 3,
   "metadata": {},
   "outputs": [],
   "source": [
    "# creating minibatches\n",
    "def mini_batch(X, Y, size):\n",
    "    idx = np.random.randint(np.size(Y[:, 0]), size = (size,1))\n",
    "    x_bat = X[idx]\n",
    "    x_bat = x_bat.reshape(size, 32, 32, 3)\n",
    "    y_bat = Y[idx]\n",
    "    y_bat = y_bat.reshape(size, 10)\n",
    "    \n",
    "    return x_bat, y_bat"
   ]
  },
  {
   "cell_type": "code",
   "execution_count": 4,
   "metadata": {},
   "outputs": [
    {
     "name": "stdout",
     "output_type": "stream",
     "text": [
      "iteration:  50000\n"
     ]
    }
   ],
   "source": [
    "# importing 10000 images of size 32x32x3\n",
    "i = 0\n",
    "img_base = []\n",
    "for img in glob.glob(\"C:\\\\Users\\\\krmmv\\\\Documents\\\\jupyter\\\\train\\\\*.png\"):\n",
    "    img_base.append(cv2.imread(img))\n",
    "    \n",
    "    i+=1\n",
    "    if i%1000 == 0:\n",
    "        clear_output()\n",
    "        print(\"iteration: \", i)\n",
    "    \n",
    "x_train = np.array(img_base[0:40000]).astype(np.float32)"
   ]
  },
  {
   "cell_type": "code",
   "execution_count": 5,
   "metadata": {},
   "outputs": [
    {
     "name": "stdout",
     "output_type": "stream",
     "text": [
      "training label shape:  (40000, 10)\n",
      "training images size:  (40000, 32, 32, 3)\n"
     ]
    }
   ],
   "source": [
    "# importing labels\n",
    "labels = pd.DataFrame(pd.read_csv(\"trainLabels.csv\"))\n",
    "y_train = np.array(labels[0:40000])\n",
    "y_train = one_hot(y_train)\n",
    "print('training label shape: ',y_train.shape)\n",
    "print('training images size: ', x_train.shape)"
   ]
  },
  {
   "cell_type": "code",
   "execution_count": 6,
   "metadata": {},
   "outputs": [],
   "source": [
    "# to reset the graph\n",
    "tf.reset_default_graph()\n",
    "\n",
    "# creating placeholders\n",
    "x = tf.placeholder(tf.float32, [None, 32, 32, 3])\n",
    "y = tf.placeholder(tf.float32, [None, 10])\n",
    "\n",
    "# creating weights\n",
    "w1 = tf.get_variable('w1', [3,3,3,10], initializer=tf.contrib.layers.xavier_initializer())\n",
    "w2 = tf.get_variable('w2', [3,3,10,15], initializer=tf.contrib.layers.xavier_initializer())"
   ]
  },
  {
   "cell_type": "code",
   "execution_count": 7,
   "metadata": {},
   "outputs": [],
   "source": [
    "# hyperparameters\n",
    "learning_rate = 0.05"
   ]
  },
  {
   "cell_type": "code",
   "execution_count": 8,
   "metadata": {},
   "outputs": [
    {
     "name": "stdout",
     "output_type": "stream",
     "text": [
      "p1 shape:  (40000, 32, 32, 10)\n",
      "p2 shape:  (40000, 16, 16, 15)\n",
      "output layer shape:  (40000, 10)\n"
     ]
    }
   ],
   "source": [
    "# forward propagation\n",
    "\n",
    "# convolution layer 1\n",
    "c1 = tf.nn.conv2d(x_train, w1, strides = [1,1,1,1], padding = 'SAME')\n",
    "# activation function for c1: relu\n",
    "r1 = tf.nn.relu(c1)\n",
    "# maxpooling\n",
    "p1 = tf.nn.max_pool(r1, ksize = [1,2,2,1], strides = [1,1,1,1], padding = 'SAME')\n",
    "print('p1 shape: ',p1.shape)\n",
    "# convolution layer 2\n",
    "c2 = tf.nn.conv2d(p1, w2, strides = [1,1,1,1], padding='SAME')\n",
    "# activation function for c2: relu\n",
    "r2 = tf.nn.relu(c2)\n",
    "# maxpooling\n",
    "p2 = tf.nn.max_pool(r2, ksize = [1,2,2,1], strides = [1,2,2,1], padding = 'SAME')\n",
    "print('p2 shape: ',p2.shape)\n",
    "# fully connected layer\n",
    "l1 = tf.contrib.layers.flatten(p2)\n",
    "# fully connected layer\n",
    "final = tf.contrib.layers.fully_connected(l1, 10, activation_fn = None)\n",
    "print('output layer shape: ',final.shape)"
   ]
  },
  {
   "cell_type": "code",
   "execution_count": 9,
   "metadata": {},
   "outputs": [],
   "source": [
    "# training and optimization\n",
    "\n",
    "cross_entropy = tf.reduce_mean(tf.nn.softmax_cross_entropy_with_logits(logits = final, labels = y_train))\n",
    "# using adam optimizer \n",
    "optimize = tf.train.AdamOptimizer(learning_rate).minimize(cross_entropy)"
   ]
  },
  {
   "cell_type": "code",
   "execution_count": null,
   "metadata": {},
   "outputs": [],
   "source": [
    "# creating tensorflow session\n",
    "se = tf.Session()\n",
    "\n",
    "# initializing variables\n",
    "se.run(tf.global_variables_initializer())\n",
    "\n",
    "# training the graph\n",
    "for i in range(1000):\n",
    "    x_batch, y_batch = mini_batch(x_train, y_train, 110)\n",
    "    se.run(optimize, {x: x_batch, y: y_batch})\n",
    "cost = se.run(cross_entropy, {x: x_train, y: y_train})\n",
    "print(cost)"
   ]
  },
  {
   "cell_type": "code",
   "execution_count": null,
   "metadata": {},
   "outputs": [],
   "source": [
    "# test set preparation\n",
    "x_test = np.array(img_base[40000:]).astype(np.float32)\n",
    "y_test = one_hot(np.array(labels[40000:]))\n",
    "\n",
    "print('test input set size: ', x_test.shape)\n",
    "print('test set labels size: ', y_test.shape)\n",
    "\n",
    "# test set prediction\n",
    "se.run(final, {x: x_test, y: y_test})"
   ]
  }
 ],
 "metadata": {
  "kernelspec": {
   "display_name": "Python 3",
   "language": "python",
   "name": "python3"
  },
  "language_info": {
   "codemirror_mode": {
    "name": "ipython",
    "version": 3
   },
   "file_extension": ".py",
   "mimetype": "text/x-python",
   "name": "python",
   "nbconvert_exporter": "python",
   "pygments_lexer": "ipython3",
   "version": "3.6.3"
  }
 },
 "nbformat": 4,
 "nbformat_minor": 2
}
