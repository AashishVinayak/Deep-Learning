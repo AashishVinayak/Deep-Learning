{
 "cells": [
  {
   "cell_type": "code",
   "execution_count": 2,
   "metadata": {},
   "outputs": [],
   "source": [
    
    "\n",
    "'''\n",
    "    MNIST digit classification using tensorflow\n",
    "    dataset: Digit recognizer (Kaggle)\n",
    "'''\n",
    "\n",
    "import tensorflow as tf\n",
    "import pandas as pd"
   ]
  },
  {
   "cell_type": "code",
   "execution_count": 3,
   "metadata": {},
   "outputs": [],
   "source": [
    "# importing the training set\n",
    "data = pd.DataFrame(pd.read_csv('train.csv'))\n",
    "data.sample(frac=1)\n",
    "data = data.as_matrix()"
   ]
  },
  {
   "cell_type": "code",
   "execution_count": 50,
   "metadata": {},
   "outputs": [],
   "source": [
    "import numpy as np\n",
    "\n",
    "# converting the labels to hot matrix\n",
    "def hot_matrix(digit_label, size):\n",
    "    hm = np.zeros([size, 10], dtype = np.float)\n",
    "    \n",
    "    for j in range(size):\n",
    "        hm[j, digit_label[j]] = 1\n",
    "    return hm\n",
    "\n",
    "# create batches\n",
    "def create_batch(X, Y, size):\n",
    "    # total batches\n",
    "    \n",
    "    idx = np.random.randint(np.size(Y[:, 0]), size = 100)\n",
    "    idx = idx.reshape(size, 1)\n",
    "    x_bat = X[idx]\n",
    "    x_bat = x_bat.reshape(size, 784)\n",
    "    y_bat = Y[idx]\n",
    "    y_bat = y_bat.reshape(size, 10)\n",
    "    return x_bat, y_bat"
   ]
  },
  {
   "cell_type": "code",
   "execution_count": 30,
   "metadata": {},
   "outputs": [
    {
     "name": "stdout",
     "output_type": "stream",
     "text": [
      "pixel_values shape:  (38000, 784)\n",
      "labels shape:  (38000, 10)\n"
     ]
    }
   ],
   "source": [
    "# data info\n",
    "\n",
    "# training pixel values\n",
    "pixel_values = data[0:38000, 1:]\n",
    "\n",
    "# dataset length\n",
    "m = np.size(pixel_values[:, 0])\n",
    "digits = data[0:38000, 0:1]\n",
    "# labels\n",
    "labels = hot_matrix(digits, m)\n",
    "\n",
    "print('pixel_values shape: ', pixel_values.shape)\n",
    "print('labels shape: ', labels.shape)"
   ]
  },
  {
   "cell_type": "code",
   "execution_count": 87,
   "metadata": {},
   "outputs": [],
   "source": [
    "# placeholder for pixel_values\n",
    "x = tf.placeholder(tf.float32, [None, 784])\n",
    "# placeholder for labels\n",
    "y = tf.placeholder(tf.float32, [None, 10])\n",
    "\n",
    "\n",
    "# total layers = 3\n",
    "# weights\n",
    "w1 = tf.Variable(np.random.randn(784, 30), dtype = tf.float32)\n",
    "w2 = tf.Variable(np.random.randn(30, 30), dtype = tf.float32)\n",
    "w3 = tf.Variable(np.random.randn(30, 10), dtype = tf.float32)\n",
    "\n",
    "# biases\n",
    "b1 = tf.Variable(np.random.randn(30), dtype = tf.float32)\n",
    "b2 = tf.Variable(np.random.randn(30), dtype = tf.float32)\n",
    "b3 = tf.Variable(np.random.randn(10), dtype = tf.float32)"
   ]
  },
  {
   "cell_type": "code",
   "execution_count": 113,
   "metadata": {},
   "outputs": [],
   "source": [
    "# hidden layers\n",
    "z1 = tf.matmul(x, w1) + b1\n",
    "a1 = tf.nn.sigmoid(z1)\n",
    "z2 = tf.matmul(a1, w2) + b2\n",
    "a2 = tf.nn.sigmoid(z2)\n",
    "z3 = tf.matmul(a2, w3) + b3\n",
    "\n",
    "# optimization function softmax\n",
    "sigmoid_cross_entropy = tf.reduce_mean(tf.nn.sigmoid_cross_entropy_with_logits(logits = z3, labels = y))\n",
    "\n",
    "# gradient descent\n",
    "optimize = tf.train.AdamOptimizer(0.005).minimize(sigmoid_cross_entropy)"
   ]
  },
  {
   "cell_type": "code",
   "execution_count": 114,
   "metadata": {},
   "outputs": [
    {
     "name": "stdout",
     "output_type": "stream",
     "text": [
      "cost:  0.054982\n"
     ]
    }
   ],
   "source": [
    "# learning starts now\n",
    "epochs = 35000\n",
    "# creating Session\n",
    "s = tf.InteractiveSession()\n",
    "\n",
    "# initializing variables\n",
    "tf.global_variables_initializer().run()\n",
    "\n",
    "for i in range(epochs):\n",
    "    x_batch, y_batch = create_batch(pixel_values, labels, 100)\n",
    "    train_step = s.run(optimize, {x: x_batch, y: y_batch})\n",
    "cost = s.run(sigmoid_cross_entropy, {x: pixel_values, y: labels})\n",
    "print('cost: ', cost)"
   ]
  },
  {
   "cell_type": "code",
   "execution_count": 115,
   "metadata": {},
   "outputs": [
    {
     "name": "stdout",
     "output_type": "stream",
     "text": [
      "training accuracy:  0.774737\n",
      "test accuracy:  0.902\n"
     ]
    }
   ],
   "source": [
    "# test set accuracy\n",
    "test_data = data[36000:]\n",
    "# test set size\n",
    "m_test = np.size(test_data[:, 0])\n",
    "# test set pixel values\n",
    "test_pixel_values = test_data[:, 1:]\n",
    "# creating hot matrix of test set labels\n",
    "test_labels =  hot_matrix(test_data[:, 0:1], m_test)\n",
    "\n",
    "# calculating accuracy\n",
    "final_train = tf.nn.sigmoid(z3)\n",
    "\n",
    "# training set prediction\n",
    "train_predition = s.run(final_train, {x: pixel_values, y:labels})\n",
    "\n",
    "# test set prediction\n",
    "test_predition = s.run(final_train, {x: test_pixel_values, y:test_labels})\n",
    "\n",
    "# training set accuracy\n",
    "correct_train = tf.equal(tf.argmax(train_predition, 1), tf.argmax(labels, 1))\n",
    "training_accuracy = tf.reduce_mean(tf.cast(correct_train, dtype = 'float'))\n",
    "\n",
    "# test set accuracy\n",
    "correct_test = tf.equal(tf.argmax(test_predition, 1), tf.argmax(test_labels, 1))\n",
    "test_accuracy = tf.reduce_mean(tf.cast(correct_test, dtype = 'float'))\n",
    "\n",
    "print('training accuracy: ', s.run(train_accuracy))\n",
    "print('test accuracy: ', s.run(test_accuracy))"
   ]
  }
 ],
 "metadata": {
  "kernelspec": {
   "display_name": "Python 3",
   "language": "python",
   "name": "python3"
  },
  "language_info": {
   "codemirror_mode": {
    "name": "ipython",
    "version": 3
   },
   "file_extension": ".py",
   "mimetype": "text/x-python",
   "name": "python",
   "nbconvert_exporter": "python",
   "pygments_lexer": "ipython3",
   "version": "3.6.3"
  }
 },
 "nbformat": 4,
 "nbformat_minor": 2
}
