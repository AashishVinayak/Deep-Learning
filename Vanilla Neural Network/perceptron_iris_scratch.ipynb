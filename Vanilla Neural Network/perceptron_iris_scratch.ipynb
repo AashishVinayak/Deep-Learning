{
 "cells": [
  {
   "cell_type": "code",
   "execution_count": 212,
   "metadata": {},
   "outputs": [],
   "source": [
    "import numpy as np\n",
    "import pandas as pd\n",
    "import matplotlib.pyplot as plt\n",
    "%matplotlib inline"
   ]
  },
  {
   "cell_type": "code",
   "execution_count": 213,
   "metadata": {},
   "outputs": [],
   "source": [
    "def tanhgrad(z):\n",
    "    grad = 1 - np.tanh(z)**2\n",
    "    return grad"
   ]
  },
  {
   "cell_type": "code",
   "execution_count": 214,
   "metadata": {},
   "outputs": [
    {
     "name": "stdout",
     "output_type": "stream",
     "text": [
      "   sepal length  sepal width  petal length  petal width            class\n",
      "0           5.4          3.9           1.7          0.4      Iris-setosa\n",
      "1           5.3          3.7           1.5          0.2      Iris-setosa\n",
      "2           6.7          3.1           4.4          1.4  Iris-versicolor\n",
      "3           5.4          3.7           1.5          0.2      Iris-setosa\n",
      "4           5.2          3.4           1.4          0.2      Iris-setosa\n"
     ]
    }
   ],
   "source": [
    "# importing the iris dataset\n",
    "data = pd.DataFrame(pd.read_csv(\"iris.csv\"))\n",
    "data = data.sample(frac=1).reset_index(drop=True)\n",
    "print(data.head())"
   ]
  },
  {
   "cell_type": "code",
   "execution_count": 215,
   "metadata": {
    "scrolled": false
   },
   "outputs": [],
   "source": [
    "# numpy matrix formation\n",
    "X = np.array(data)[:, 0:2].astype(float)\n",
    "m = np.size(X[:, 0])\n",
    "\n",
    "# target vector\n",
    "y = np.zeros([m, 1], dtype = float)\n",
    "for i, d in enumerate(data['class']):\n",
    "    if d == 'Iris-setosa':\n",
    "        y[i, 0] = 1\n",
    "    else:\n",
    "        y[i, 0] = 0\n"
   ]
  },
  {
   "cell_type": "code",
   "execution_count": 216,
   "metadata": {},
   "outputs": [
    {
     "data": {
      "image/png": "[encoded data removed]",
      "text/plain": [
       "<matplotlib.figure.Figure at 0x1e451eeada0>"
      ]
     },
     "metadata": {},
     "output_type": "display_data"
    }
   ],
   "source": [
    "# visualising\n",
    "plt.plot(X[np.where(y == 1), 0], X[np.where(y == 1), 1], 'or')\n",
    "plt.plot(X[np.where(y == 0), 0], X[np.where(y == 0), 1], 'ob')\n",
    "plt.xlabel(\"Sepal Length\")\n",
    "plt.ylabel(\"Sepal width\")\n",
    "plt.show()"
   ]
  },
  {
   "cell_type": "code",
   "execution_count": 217,
   "metadata": {},
   "outputs": [
    {
     "name": "stdout",
     "output_type": "stream",
     "text": [
      "w1:\n",
      "[[-0.81673199 -2.17865171]\n",
      " [-0.54683746  0.11350371]\n",
      " [ 0.07742256 -0.43680055]]\n",
      "\n",
      "w2:\n",
      "[[ 0.3204515 ]\n",
      " [ 1.02446017]\n",
      " [ 0.11216463]]\n"
     ]
    }
   ],
   "source": [
    "# initialising weight matrix and bias for layer 1\n",
    "w1 = np.random.randn(6).reshape(3,2)\n",
    "b1 = np.zeros([m, 1], dtype = float)\n",
    "# initialising weight matrix and bias for layer 2\n",
    "w2 = np.random.randn(3).reshape(3,1)\n",
    "b2 = b1 = np.zeros([m, 1], dtype = float)\n",
    "\n",
    "print(\"w1:\\n\" + str(w1))\n",
    "print(\"\\nw2:\\n\" + str(w2))"
   ]
  },
  {
   "cell_type": "code",
   "execution_count": 218,
   "metadata": {},
   "outputs": [],
   "source": [
    "# activation layer\n",
    "a1 = np.zeros([3,1], dtype=float)\n",
    "#learning rate\n",
    "L = 0.001\n",
    "\n",
    "# Training loop\n",
    "for Iter in range(1000):\n",
    "    # forward pass\n",
    "    z1 = np.dot(X, w1.T) + b1\n",
    "    a1 = np.tanh(z1)\n",
    "    z2 = np.dot(a1, w2) + b2\n",
    "    a2 = np.tanh(z2)\n",
    "    \n",
    "    # backpropagation\n",
    "    \n",
    "    # gradient of cost function w.r.t. a2\n",
    "    dc2 = a2 - y\n",
    "    # gradient of cost w.r.t. w2 via a2\n",
    "    dw2 = (1/m) * np.dot(a1.T, (a2 - y))\n",
    "    # gradient of cost w.r.t. b2 via a2\n",
    "    db2 = (1/m) * np.sum(dc2)\n",
    "    # change in the cost w.r.t a\n",
    "    dc1a = np.dot(w2, dc2.T)\n",
    "    dc1b = tanhgrad(z1)\n",
    "    dc1 = dc1a * dc1b.T\n",
    "    dw1 = np.dot(dc1, X)\n",
    "    db1 = (1/m) * np.sum(dc1)\n",
    "    \n",
    "    \n",
    "    # update the weights\n",
    "    w1 = w1 - L * dw1\n",
    "    b1 = b1 - L * db1\n",
    "    w2 = w2 - L * dw2\n",
    "    b2 = b2 - L * db2"
   ]
  },
  {
   "cell_type": "code",
   "execution_count": 219,
   "metadata": {},
   "outputs": [],
   "source": [
    "prediction = np.zeros([m, 1])\n",
    "\n",
    "# predictions\n",
    "pz1 = np.dot(X, w1.T) + b1\n",
    "pa1 = np.tanh(z1)\n",
    "pz2 = np.dot(a1, w2) + b2\n",
    "pa2 = np.tanh(z2)\n",
    "\n",
    "for i in range(m):\n",
    "    if pa2[i, 0] >= 0.5:\n",
    "        prediction[i, 0] = 1\n",
    "    else:\n",
    "        prediction[i, 0] = 0 "
   ]
  },
  {
   "cell_type": "code",
   "execution_count": 220,
   "metadata": {},
   "outputs": [
    {
     "name": "stdout",
     "output_type": "stream",
     "text": [
      "accuracy: 94.0%\n"
     ]
    }
   ],
   "source": [
    "# accuracy\n",
    "score = 0\n",
    "for i in range(m):\n",
    "    if y[i] == prediction[i]:\n",
    "        score+=1\n",
    "accuracy = (score/m) * 100\n",
    "print('accuracy: ' + str(accuracy) + \"%\")"
   ]
  }
 ],
 "metadata": {
  "kernelspec": {
   "display_name": "Python 3",
   "language": "python",
   "name": "python3"
  },
  "language_info": {
   "codemirror_mode": {
    "name": "ipython",
    "version": 3
   },
   "file_extension": ".py",
   "mimetype": "text/x-python",
   "name": "python",
   "nbconvert_exporter": "python",
   "pygments_lexer": "ipython3",
   "version": "3.6.3"
  }
 },
 "nbformat": 4,
 "nbformat_minor": 2
}
